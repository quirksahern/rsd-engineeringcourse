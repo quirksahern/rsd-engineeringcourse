{
 "cells": [
  {
   "cell_type": "markdown",
   "metadata": {},
   "source": [
    "## Argparse"
   ]
  },
  {
   "cell_type": "markdown",
   "metadata": {},
   "source": [
    "This is the standard library for building programs with a command-line interface. Here we show a short introduction to it, but we recommend to read the [official tutorial](https://docs.python.org/3/howto/argparse.html)."
   ]
  },
  {
   "cell_type": "markdown",
   "metadata": {},
   "source": [
    "Let's start by creating a simple `greet` function that accepts some parameters."
   ]
  },
  {
   "cell_type": "code",
   "execution_count": 1,
   "metadata": {},
   "outputs": [],
   "source": [
    "def greet(personal, family, title=\"\", polite=False):\n",
    "    greeting = \"How do you do, \" if polite else \"Hey, \"\n",
    "    if title:\n",
    "        greeting += f\"{title} \"\n",
    "\n",
    "    greeting += f\"{personal} {family}.\"\n",
    "    return greeting"
   ]
  },
  {
   "cell_type": "markdown",
   "metadata": {},
   "source": [
    "Now we have a function that greets whoever we want."
   ]
  },
  {
   "cell_type": "code",
   "execution_count": 2,
   "metadata": {},
   "outputs": [
    {
     "data": {
      "text/plain": [
       "'How do you do, John Cleese.'"
      ]
     },
     "execution_count": 2,
     "metadata": {},
     "output_type": "execute_result"
    }
   ],
   "source": [
    "greet(\"John\", \"Cleese\", polite=True)"
   ]
  },
  {
   "cell_type": "markdown",
   "metadata": {},
   "source": [
    "If we want to create a command line interface for this function, we need to save it on its own file. To add the capability to accept inputs from the command line we are going to use `argparse`.\n",
    "\n",
    "Rememer, what's under the `if __name__ == \"__main__\":` block is what's get executed when you run the file!"
   ]
  },
  {
   "cell_type": "code",
   "execution_count": 3,
   "metadata": {},
   "outputs": [
    {
     "name": "stdout",
     "output_type": "stream",
     "text": [
      "Writing greeter.py\n"
     ]
    }
   ],
   "source": [
    "%%writefile greeter.py\n",
    "#!/usr/bin/env python\n",
    "from argparse import ArgumentParser\n",
    "\n",
    "def greet(personal, family, title=\"\", polite=False):\n",
    "    greeting = \"How do you do, \" if polite else \"Hey, \"\n",
    "    if title:\n",
    "        greeting += f\"{title} \"\n",
    "\n",
    "    greeting += f\"{personal} {family}.\"\n",
    "    return greeting\n",
    "\n",
    "if __name__ == \"__main__\":\n",
    "    parser = ArgumentParser(description=\"Generate appropriate greetings\")\n",
    "    parser.add_argument('--title', '-t')\n",
    "    parser.add_argument('--polite','-p', action=\"store_true\")\n",
    "    parser.add_argument('personal')\n",
    "    parser.add_argument('family')\n",
    "    arguments= parser.parse_args()\n",
    "    \n",
    "    message = greet(arguments.personal, arguments.family,\n",
    "                    arguments.title, arguments.polite)\n",
    "    print(message)"
   ]
  },
  {
   "cell_type": "markdown",
   "metadata": {},
   "source": [
    "Note that we've created arguments for each argument `greet` accepts and kept what's optional in the function (the keyword arguments) to be also optional for its command-line interface (can you spot how?)."
   ]
  },
  {
   "cell_type": "markdown",
   "metadata": {},
   "source": [
    "We need to tell the computer that this file can be executed to be able to run this script without calling it with `python` everytime. The computer will know what to use by reading the [shebang](https://en.wikipedia.org/wiki/Shebang_(Unix)) `#!`. If you are using MacOS or Linux, you do the following to create an executable:"
   ]
  },
  {
   "cell_type": "code",
   "execution_count": 4,
   "metadata": {},
   "outputs": [],
   "source": [
    "%%bash\n",
    "chmod u+x greeter.py"
   ]
  },
  {
   "cell_type": "markdown",
   "metadata": {},
   "source": [
    "and then running it as:"
   ]
  },
  {
   "cell_type": "code",
   "execution_count": 5,
   "metadata": {},
   "outputs": [
    {
     "name": "stderr",
     "output_type": "stream",
     "text": [
      "usage: greeter.py [-h] [--title TITLE] [--polite] personal family\n",
      "greeter.py: error: the following arguments are required: personal, family\n"
     ]
    }
   ],
   "source": [
    "%%bash --no-raise-error\n",
    "./greeter.py"
   ]
  },
  {
   "cell_type": "markdown",
   "metadata": {},
   "source": [
    "if you are using Windows' commands or powershell terminal (instead of git-bash), then the shebang is ignored and you will have to call `python` explicitily. Additionally, for the notebooks cells, you need to change `bash` by `cmd`.\n",
    "\n",
    "```\n",
    "%%cmd\n",
    "python greeter.py John Cleese\n",
    "```"
   ]
  },
  {
   "cell_type": "code",
   "execution_count": 6,
   "metadata": {},
   "outputs": [
    {
     "name": "stdout",
     "output_type": "stream",
     "text": [
      "Hey, John Cleese.\n"
     ]
    }
   ],
   "source": [
    "%%bash\n",
    "./greeter.py John Cleese"
   ]
  },
  {
   "cell_type": "markdown",
   "metadata": {},
   "source": [
    "We can then use the optional arguments as:"
   ]
  },
  {
   "cell_type": "code",
   "execution_count": 7,
   "metadata": {},
   "outputs": [
    {
     "name": "stdout",
     "output_type": "stream",
     "text": [
      "How do you do, John Cleese.\n"
     ]
    }
   ],
   "source": [
    "%%bash\n",
    "./greeter.py --polite John Cleese"
   ]
  },
  {
   "cell_type": "code",
   "execution_count": 8,
   "metadata": {},
   "outputs": [
    {
     "name": "stdout",
     "output_type": "stream",
     "text": [
      "Hey, Dr John Cleese.\n"
     ]
    }
   ],
   "source": [
    "%%bash\n",
    "./greeter.py John Cleese --title Dr"
   ]
  },
  {
   "cell_type": "markdown",
   "metadata": {},
   "source": [
    "Yes, [he is](https://en.wikipedia.org/wiki/John_Cleese#Honours_and_tributes)!"
   ]
  },
  {
   "cell_type": "markdown",
   "metadata": {},
   "source": [
    "From the error we got above when we called `greeter.py` without arguments, you may have noticed that in the usage message there's also a `-h` optional argument. We know it's optional because it's shown within square brackes, like for `[--polite]`. This new argument, as the usage message seen above, is generated automatically by argparse and you can use it to see the help."
   ]
  },
  {
   "cell_type": "code",
   "execution_count": 9,
   "metadata": {},
   "outputs": [
    {
     "name": "stdout",
     "output_type": "stream",
     "text": [
      "usage: greeter.py [-h] [--title TITLE] [--polite] personal family\n",
      "\n",
      "Generate appropriate greetings\n",
      "\n",
      "positional arguments:\n",
      "  personal\n",
      "  family\n",
      "\n",
      "optional arguments:\n",
      "  -h, --help            show this help message and exit\n",
      "  --title TITLE, -t TITLE\n",
      "  --polite, -p\n"
     ]
    }
   ],
   "source": [
    "%%bash\n",
    "./greeter.py --help"
   ]
  },
  {
   "cell_type": "markdown",
   "metadata": {},
   "source": [
    "Before we move into the next section, let's clean up our `if __name__ == \"__main__\":` block by creating a function that keeps the `argparse` magic. We will call that function `process`."
   ]
  },
  {
   "cell_type": "code",
   "execution_count": 10,
   "metadata": {},
   "outputs": [
    {
     "name": "stdout",
     "output_type": "stream",
     "text": [
      "Overwriting greeter.py\n"
     ]
    }
   ],
   "source": [
    "%%writefile greeter.py\n",
    "#!/usr/bin/env python\n",
    "from argparse import ArgumentParser\n",
    "\n",
    "def greet(personal, family, title=\"\", polite=False):\n",
    "    greeting = \"How do you do, \" if polite else \"Hey, \"\n",
    "    if title:\n",
    "        greeting += f\"{title} \"\n",
    "\n",
    "    greeting += f\"{personal} {family}.\"\n",
    "    return greeting\n",
    "\n",
    "def process():\n",
    "    parser = ArgumentParser(description=\"Generate appropriate greetings\")\n",
    "\n",
    "    parser.add_argument('--title', '-t')\n",
    "    parser.add_argument('--polite', '-p', action=\"store_true\")\n",
    "    parser.add_argument('personal')\n",
    "    parser.add_argument('family')\n",
    "\n",
    "    arguments = parser.parse_args()\n",
    "\n",
    "    print(greet(arguments.personal, arguments.family,\n",
    "                arguments.title, arguments.polite))    \n",
    "\n",
    "if __name__ == \"__main__\":\n",
    "    process()"
   ]
  }
 ],
 "metadata": {
  "jekyll": {
   "display_name": "Argparse"
  },
  "kernelspec": {
   "display_name": "Python 3",
   "language": "python",
   "name": "python3"
  },
  "language_info": {
   "codemirror_mode": {
    "name": "ipython",
    "version": 3
   },
   "file_extension": ".py",
   "mimetype": "text/x-python",
   "name": "python",
   "nbconvert_exporter": "python",
   "pygments_lexer": "ipython3",
   "version": "3.8.5"
  }
 },
 "nbformat": 4,
 "nbformat_minor": 1
}

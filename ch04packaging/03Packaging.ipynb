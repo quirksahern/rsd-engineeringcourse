{
 "cells": [
  {
   "cell_type": "markdown",
   "metadata": {},
   "source": [
    "## Packaging"
   ]
  },
  {
   "cell_type": "markdown",
   "metadata": {},
   "source": [
    "\n",
    "Once we've made a working program, we'd like to be able to share it with others.\n",
    "\n",
    "A good cross-platform build tool is the most important thing: you can always\n",
    "have collaborators build from source.\n"
   ]
  },
  {
   "cell_type": "markdown",
   "metadata": {},
   "source": [
    "### Distribution tools"
   ]
  },
  {
   "cell_type": "markdown",
   "metadata": {},
   "source": [
    "Distribution tools allow one to obtain a working copy of someone else's package.\n",
    "\n",
    "- Language-specific tools: \n",
    " - python: PyPI,\n",
    " - ruby: Ruby Gems, \n",
    " - perl: CPAN,\n",
    " - R: CRAN\n",
    " \n",
    "- Platform specific packagers e.g.:\n",
    " - [`brew`](https://brew.sh/) for MacOS, \n",
    " - `apt`/`dnf`/`pacman` for Linux or \n",
    " - [`choco`](https://chocolatey.org/) for Windows."
   ]
  },
  {
   "cell_type": "markdown",
   "metadata": {},
   "source": [
    "### Laying out a project"
   ]
  },
  {
   "cell_type": "markdown",
   "metadata": {},
   "source": [
    "\n",
    "When planning to package a project for distribution, defining a suitable\n",
    "project layout is essential. A typical layout might look like this:\n",
    "\n",
    "```\n",
    "repository_name\n",
    "|-- module_name\n",
    "|   |-- __init__.py\n",
    "|   |-- python_file.py\n",
    "|   |-- another_python_file.py\n",
    "|   `-- test\n",
    "|       |-- fixtures\n",
    "|       |   `-- fixture_file.yaml\n",
    "|       |-- __init__.py\n",
    "|       `-- test_python_file.py\n",
    "|-- LICENSE.md\n",
    "|-- CITATION.md\n",
    "|-- README.md\n",
    "`-- setup.py\n",
    "```\n",
    "\n",
    "\n",
    "\n"
   ]
  },
  {
   "cell_type": "markdown",
   "metadata": {},
   "source": [
    "To achieve this for our `greetings.py` file from the previous session, we can use the commands shown below. We can start by making our directory structure. You can create many nested directories at once using the `-p` switch on `mkdir`."
   ]
  },
  {
   "cell_type": "code",
   "execution_count": 1,
   "metadata": {},
   "outputs": [],
   "source": [
    "%%bash\n",
    "mkdir -p greetings_repo/greetings/test/fixtures"
   ]
  },
  {
   "cell_type": "markdown",
   "metadata": {},
   "source": [
    "For this notebook, since we are going to be modifying the files bit by bit, we are going to use the [autoreload ipython magic](https://ipython.readthedocs.io/en/stable/config/extensions/autoreload.html) so that we don't need to restart the kernel."
   ]
  },
  {
   "cell_type": "code",
   "execution_count": 2,
   "metadata": {},
   "outputs": [],
   "source": [
    "%load_ext autoreload\n",
    "%autoreload 2"
   ]
  },
  {
   "cell_type": "markdown",
   "metadata": {},
   "source": [
    "### Using setuptools"
   ]
  },
  {
   "cell_type": "markdown",
   "metadata": {},
   "source": [
    "\n",
    "To make python code into a package, we need to write a `setup.py` file. For now we are adding only the name of the package and its version number."
   ]
  },
  {
   "cell_type": "code",
   "execution_count": 3,
   "metadata": {},
   "outputs": [
    {
     "name": "stdout",
     "output_type": "stream",
     "text": [
      "Overwriting greetings_repo/setup.py\n"
     ]
    }
   ],
   "source": [
    "%%writefile greetings_repo/setup.py\n",
    "\n",
    "from setuptools import setup, find_packages\n",
    "\n",
    "setup(\n",
    "    name=\"Greetings\",\n",
    "    version=\"0.1.0\",\n",
    "    packages=find_packages(),\n",
    ")\n"
   ]
  },
  {
   "cell_type": "markdown",
   "metadata": {},
   "source": [
    "We can now install this \"package\" with pip:"
   ]
  },
  {
   "cell_type": "code",
   "execution_count": 4,
   "metadata": {},
   "outputs": [
    {
     "name": "stdout",
     "output_type": "stream",
     "text": [
      "Processing .../rsd-engineeringcourse/ch04packaging/greetings_repo\n",
      "Building wheels for collected packages: Greetings\n",
      "  Building wheel for Greetings (setup.py): started\n",
      "  Building wheel for Greetings (setup.py): finished with status 'done'\n",
      "  Created wheel for Greetings: filename=Greetings-0.1.0-py3-none-any.whl size=2742 sha256=ce986acf2fe2583ff961f71447aff33575855bf5d0dae3eff068661a5c198b60\n",
      "  Stored in directory: /tmp/pip-ephem-wheel-cache-8_wjsvz8/wheels/ab/e7/54/9a036966943d76006b9cf8ead18eb86efbe02c72fc9a80425a\n",
      "Successfully built Greetings\n",
      "Installing collected packages: Greetings\n",
      "Successfully installed Greetings-0.1.0\n"
     ]
    }
   ],
   "source": [
    "%%bash\n",
    "cd greetings_repo\n",
    "pip install ."
   ]
  },
  {
   "cell_type": "markdown",
   "metadata": {},
   "source": [
    "\n",
    "And the package will be then available to use everywhere on the system. But so far this package doesn't contain anythin and there's nothing we can run! We need to add some files first.\n"
   ]
  },
  {
   "cell_type": "markdown",
   "metadata": {},
   "source": [
    "\n",
    "To create a regular package, we needed to have `__init__.py` files on each subdirectory that we want to be able to import. This is, since version 3.3 and the introduction of [Implicit Namespaces Packages](https://www.python.org/dev/peps/pep-0420/), not needed anymore. However, if you want to use relative imports and `pytest`, then you [still need to have these files](https://github.com/pytest-dev/pytest/issues/1927).\n",
    "\n",
    "The `__init__.py` files can contain any initialisation code you want to run when the (sub)module is imported.\n",
    "\n",
    "For this example, and because we are using relative imports in the tests, we are creating the needed `__init__.py` files."
   ]
  },
  {
   "cell_type": "code",
   "execution_count": 5,
   "metadata": {},
   "outputs": [],
   "source": [
    "%%bash\n",
    "\n",
    "touch greetings_repo/greetings/__init__.py"
   ]
  },
  {
   "cell_type": "markdown",
   "metadata": {},
   "source": [
    "And we can copy the `greet` function from the [previous section](https://github-pages.ucl.ac.uk/rsd-engineeringcourse/ch04packaging/02Argparse.html) in the `greeter.py` file."
   ]
  },
  {
   "cell_type": "code",
   "execution_count": 6,
   "metadata": {},
   "outputs": [
    {
     "name": "stdout",
     "output_type": "stream",
     "text": [
      "Overwriting greetings_repo/greetings/greeter.py\n"
     ]
    }
   ],
   "source": [
    "%%writefile greetings_repo/greetings/greeter.py\n",
    "\n",
    "def greet(personal, family, title=\"\", polite=False):\n",
    "    greeting = \"How do you do, \" if polite else \"Hey, \"\n",
    "    if title:\n",
    "        greeting += f\"{title} \"\n",
    "\n",
    "    greeting += f\"{personal} {family}.\"\n",
    "    return greeting\n"
   ]
  },
  {
   "cell_type": "markdown",
   "metadata": {},
   "source": [
    "For the changes to take effect, we need to reinstall the library: "
   ]
  },
  {
   "cell_type": "code",
   "execution_count": 7,
   "metadata": {},
   "outputs": [
    {
     "name": "stdout",
     "output_type": "stream",
     "text": [
      "Processing .../rsd-engineeringcourse/ch04packaging/greetings_repo\n",
      "Building wheels for collected packages: Greetings\n",
      "  Building wheel for Greetings (setup.py): started\n",
      "  Building wheel for Greetings (setup.py): finished with status 'done'\n",
      "  Created wheel for Greetings: filename=Greetings-0.1.0-py3-none-any.whl size=2742 sha256=1ca1b87de16928a8f104e45447d684d628c56695364b04fb8755d4ea60762cf7\n",
      "  Stored in directory: /tmp/pip-ephem-wheel-cache-y1vekdao/wheels/ab/e7/54/9a036966943d76006b9cf8ead18eb86efbe02c72fc9a80425a\n",
      "Successfully built Greetings\n",
      "Installing collected packages: Greetings\n",
      "  Attempting uninstall: Greetings\n",
      "    Found existing installation: Greetings 0.1.0\n",
      "    Uninstalling Greetings-0.1.0:\n",
      "      Successfully uninstalled Greetings-0.1.0\n",
      "Successfully installed Greetings-0.1.0\n"
     ]
    }
   ],
   "source": [
    "%%bash\n",
    "cd greetings_repo\n",
    "pip install ."
   ]
  },
  {
   "cell_type": "markdown",
   "metadata": {},
   "source": [
    "And now we are able to import it and use it:"
   ]
  },
  {
   "cell_type": "code",
   "execution_count": 8,
   "metadata": {},
   "outputs": [
    {
     "data": {
      "text/plain": [
       "'Hey, Terry Gilliam.'"
      ]
     },
     "execution_count": 8,
     "metadata": {},
     "output_type": "execute_result"
    }
   ],
   "source": [
    "from greetings.greeter import greet\n",
    "greet(\"Terry\",\"Gilliam\")"
   ]
  },
  {
   "cell_type": "markdown",
   "metadata": {},
   "source": [
    "### Convert the script to a module"
   ]
  },
  {
   "cell_type": "markdown",
   "metadata": {},
   "source": [
    "\n",
    "Of course, there's more to do when taking code from a quick script and turning it into a proper module:"
   ]
  },
  {
   "cell_type": "markdown",
   "metadata": {},
   "source": [
    "We need to add docstrings to our functions, so people can know how to use them."
   ]
  },
  {
   "cell_type": "code",
   "execution_count": 9,
   "metadata": {},
   "outputs": [
    {
     "name": "stdout",
     "output_type": "stream",
     "text": [
      "Overwriting greetings_repo/greetings/greeter.py\n"
     ]
    }
   ],
   "source": [
    "%%writefile greetings_repo/greetings/greeter.py\n",
    "\n",
    "def greet(personal, family, title=\"\", polite=False):\n",
    "    \"\"\" Generate a greeting string for a person.\n",
    "    Parameters\n",
    "    ----------\n",
    "    personal: str\n",
    "        A given name, such as Will or Jean-Luc\n",
    "    family: str\n",
    "        A family name, such as Riker or Picard\n",
    "    title: str\n",
    "        An optional title, such as Captain or Reverend\n",
    "    polite: bool\n",
    "        True for a formal greeting, False for informal.\n",
    "    Returns\n",
    "    -------\n",
    "    string\n",
    "        An appropriate greeting\n",
    "    Examples\n",
    "    --------\n",
    "    >>> from greetings.greeter import greet\n",
    "    >>> greet(\"Terry\", \"Jones\")\n",
    "    'Hey, Terry Jones.\n",
    "    \"\"\"\n",
    "\n",
    "    greeting = \"How do you do, \" if polite else \"Hey, \"\n",
    "    if title:\n",
    "        greeting += f\"{title} \"\n",
    "\n",
    "    greeting += f\"{personal} {family}.\"\n",
    "    return greeting"
   ]
  },
  {
   "cell_type": "markdown",
   "metadata": {},
   "source": [
    "We can see the documentation using `help`."
   ]
  },
  {
   "cell_type": "code",
   "execution_count": 10,
   "metadata": {},
   "outputs": [
    {
     "name": "stdout",
     "output_type": "stream",
     "text": [
      "Help on function greet in module greetings.greeter:\n",
      "\n",
      "greet(personal, family, title='', polite=False)\n",
      "\n"
     ]
    }
   ],
   "source": [
    "help(greet)"
   ]
  },
  {
   "cell_type": "markdown",
   "metadata": {},
   "source": [
    "The documentation string explains how to use the function; don't worry about this for now, we'll consider\n",
    "this on [the next section](./04documentation.html) ([notebook version](./04documentation.ipynb))."
   ]
  },
  {
   "cell_type": "markdown",
   "metadata": {},
   "source": [
    "### Write an executable script"
   ]
  },
  {
   "cell_type": "markdown",
   "metadata": {},
   "source": [
    "\n",
    "\n",
    "\n",
    "\n",
    "\n"
   ]
  },
  {
   "cell_type": "markdown",
   "metadata": {},
   "source": [
    "We can create an executable script, `command.py` that uses our greeting functionality and the `process` function we created in the previous section.\n",
    "\n",
    "Note how we are importing `greet` using [relative imports](https://www.python.org/dev/peps/pep-0328/), where `.greeter` means to look for a `greeter` module within the same directory."
   ]
  },
  {
   "cell_type": "code",
   "execution_count": 11,
   "metadata": {},
   "outputs": [
    {
     "name": "stdout",
     "output_type": "stream",
     "text": [
      "Overwriting greetings_repo/greetings/command.py\n"
     ]
    }
   ],
   "source": [
    "%%writefile greetings_repo/greetings/command.py\n",
    "\n",
    "from argparse import ArgumentParser\n",
    "\n",
    "from .greeter import greet\n",
    "\n",
    "\n",
    "def process():\n",
    "    parser = ArgumentParser(description=\"Generate appropriate greetings\")\n",
    "\n",
    "    parser.add_argument('--title', '-t')\n",
    "    parser.add_argument('--polite', '-p', action=\"store_true\")\n",
    "    parser.add_argument('personal')\n",
    "    parser.add_argument('family')\n",
    "\n",
    "    arguments = parser.parse_args()\n",
    "\n",
    "    print(greet(arguments.personal, arguments.family,\n",
    "                arguments.title, arguments.polite))\n",
    "\n",
    "\n",
    "if __name__ == \"__main__\":\n",
    "    process()"
   ]
  },
  {
   "cell_type": "markdown",
   "metadata": {},
   "source": [
    "#### Specify entry point"
   ]
  },
  {
   "cell_type": "markdown",
   "metadata": {},
   "source": [
    "This allows us to create a command to execute part of our library. In this case when we execute `greet` on the terminal, we will be calling the `process` function under `greetings/command.py`.\n"
   ]
  },
  {
   "cell_type": "code",
   "execution_count": 12,
   "metadata": {},
   "outputs": [
    {
     "name": "stdout",
     "output_type": "stream",
     "text": [
      "Overwriting greetings_repo/setup.py\n"
     ]
    }
   ],
   "source": [
    "%%writefile greetings_repo/setup.py\n",
    "\n",
    "from setuptools import setup, find_packages\n",
    "\n",
    "setup(\n",
    "    name=\"Greetings\",\n",
    "    version=\"0.1.0\",\n",
    "    packages=find_packages(),\n",
    "    entry_points={\n",
    "        'console_scripts': [\n",
    "            'greet = greetings.command:process'\n",
    "        ]})"
   ]
  },
  {
   "cell_type": "code",
   "execution_count": 13,
   "metadata": {},
   "outputs": [
    {
     "name": "stdout",
     "output_type": "stream",
     "text": [
      "Obtaining file://.../rsd-engineeringcourse/ch04packaging/greetings_repo\n",
      "Installing collected packages: Greetings\n",
      "  Attempting uninstall: Greetings\n",
      "    Found existing installation: Greetings 0.1.0\n",
      "    Uninstalling Greetings-0.1.0:\n",
      "      Successfully uninstalled Greetings-0.1.0\n",
      "  Running setup.py develop for Greetings\n",
      "Successfully installed Greetings\n"
     ]
    }
   ],
   "source": [
    "%%bash\n",
    "cd greetings_repo\n",
    "pip install -e ."
   ]
  },
  {
   "cell_type": "markdown",
   "metadata": {},
   "source": [
    "\n",
    "And the scripts are now available as command line commands, so the following commands can now be run:\n",
    "\n",
    "\n"
   ]
  },
  {
   "cell_type": "code",
   "execution_count": 14,
   "metadata": {},
   "outputs": [
    {
     "name": "stdout",
     "output_type": "stream",
     "text": [
      "usage: greet [-h] [--title TITLE] [--polite] personal family\n",
      "\n",
      "Generate appropriate greetings\n",
      "\n",
      "positional arguments:\n",
      "  personal\n",
      "  family\n",
      "\n",
      "optional arguments:\n",
      "  -h, --help            show this help message and exit\n",
      "  --title TITLE, -t TITLE\n",
      "  --polite, -p\n"
     ]
    }
   ],
   "source": [
    "%%bash\n",
    "greet --help"
   ]
  },
  {
   "cell_type": "code",
   "execution_count": 15,
   "metadata": {},
   "outputs": [
    {
     "name": "stdout",
     "output_type": "stream",
     "text": [
      "Hey, Terry Gilliam.\n",
      "How do you do, Terry Gilliam.\n",
      "Hey, Cartoonist Terry Gilliam.\n"
     ]
    }
   ],
   "source": [
    "%%bash\n",
    "greet Terry Gilliam\n",
    "greet --polite Terry Gilliam\n",
    "greet Terry Gilliam --title Cartoonist"
   ]
  },
  {
   "cell_type": "markdown",
   "metadata": {},
   "source": [
    "### Specify dependencies"
   ]
  },
  {
   "cell_type": "markdown",
   "metadata": {},
   "source": [
    "Let's give some live to our output using ascii art"
   ]
  },
  {
   "cell_type": "code",
   "execution_count": 16,
   "metadata": {},
   "outputs": [
    {
     "name": "stdout",
     "output_type": "stream",
     "text": [
      "Overwriting greetings_repo/greetings/command.py\n"
     ]
    }
   ],
   "source": [
    "%%writefile greetings_repo/greetings/command.py\n",
    "\n",
    "from argparse import ArgumentParser\n",
    "\n",
    "from art import art\n",
    "\n",
    "from .greeter import greet\n",
    "\n",
    "\n",
    "def process():\n",
    "    parser = ArgumentParser(description=\"Generate appropriate greetings\")\n",
    "\n",
    "    parser.add_argument('--title', '-t')\n",
    "    parser.add_argument('--polite', '-p', action=\"store_true\")\n",
    "    parser.add_argument('personal')\n",
    "    parser.add_argument('family')\n",
    "\n",
    "    arguments = parser.parse_args()\n",
    "\n",
    "    message = greet(arguments.personal, arguments.family,\n",
    "                    arguments.title, arguments.polite)\n",
    "    print(art(\"cute face\"), message)\n",
    "\n",
    "if __name__ == \"__main__\":\n",
    "    process()"
   ]
  },
  {
   "cell_type": "markdown",
   "metadata": {},
   "source": [
    "We use the setup.py file to specify the packages we depend on using `install_requires`:"
   ]
  },
  {
   "cell_type": "code",
   "execution_count": 17,
   "metadata": {},
   "outputs": [
    {
     "name": "stdout",
     "output_type": "stream",
     "text": [
      "Overwriting greetings_repo/setup.py\n"
     ]
    }
   ],
   "source": [
    "%%writefile greetings_repo/setup.py\n",
    "\n",
    "from setuptools import setup, find_packages\n",
    "\n",
    "setup(\n",
    "    name=\"Greetings\",\n",
    "    version=\"0.1.0\",\n",
    "    packages=find_packages(),\n",
    "    install_requires=['art', 'pyyaml'],\n",
    "    entry_points={\n",
    "        'console_scripts': [\n",
    "            'greet = greetings.command:process'\n",
    "        ]}    \n",
    "    )"
   ]
  },
  {
   "cell_type": "markdown",
   "metadata": {},
   "source": [
    "When installing the package now, pip will also install the dependencies automatically."
   ]
  },
  {
   "cell_type": "code",
   "execution_count": 18,
   "metadata": {},
   "outputs": [
    {
     "name": "stdout",
     "output_type": "stream",
     "text": [
      "Obtaining file://.../rsd-engineeringcourse/ch04packaging/greetings_repo\n",
      "Collecting art\n",
      "  Using cached art-5.0-py2.py3-none-any.whl (560 kB)\n",
      "Requirement already satisfied: pyyaml in /home/dvd/Documents/.config/packman/miniconda3/envs/teaching/lib/python3.8/site-packages (from Greetings==0.1.0) (5.3.1)\n",
      "Installing collected packages: art, Greetings\n",
      "  Attempting uninstall: Greetings\n",
      "    Found existing installation: Greetings 0.1.0\n",
      "    Uninstalling Greetings-0.1.0:\n",
      "      Successfully uninstalled Greetings-0.1.0\n",
      "  Running setup.py develop for Greetings\n",
      "Successfully installed Greetings art-5.0\n"
     ]
    }
   ],
   "source": [
    "%%bash\n",
    "cd greetings_repo\n",
    "pip install -e ."
   ]
  },
  {
   "cell_type": "code",
   "execution_count": 19,
   "metadata": {},
   "outputs": [
    {
     "name": "stdout",
     "output_type": "stream",
     "text": [
      "(｡◕‿◕｡)  Hey, Terry Gilliam.\n"
     ]
    }
   ],
   "source": [
    "%%bash\n",
    "greet Terry Gilliam"
   ]
  },
  {
   "cell_type": "markdown",
   "metadata": {},
   "source": [
    "### Installing from GitHub"
   ]
  },
  {
   "cell_type": "markdown",
   "metadata": {},
   "source": [
    "\n",
    "We could now submit \"greeter\" to PyPI for approval, so everyone could `pip install` it.\n",
    "\n",
    "However, when using git, we don't even need to do that: we can install directly from any git URL:\n"
   ]
  },
  {
   "cell_type": "markdown",
   "metadata": {},
   "source": [
    "```bash\n",
    "pip install git+git://github.com/ucl-rits/greeter\n",
    "```"
   ]
  },
  {
   "cell_type": "markdown",
   "metadata": {},
   "source": [
    "```bash\n",
    "$ greet Lancelot the-Brave --title Sir\n",
    "Hey, Sir Lancelot the-Brave.\n",
    "```"
   ]
  },
  {
   "cell_type": "markdown",
   "metadata": {},
   "source": [
    "<hr>\n",
    "There are a few additional text files that are important to add to a package: a readme file, a licence file and a citation file."
   ]
  },
  {
   "cell_type": "markdown",
   "metadata": {},
   "source": [
    "\n"
   ]
  },
  {
   "cell_type": "markdown",
   "metadata": {},
   "source": [
    "### Write a readme file"
   ]
  },
  {
   "cell_type": "markdown",
   "metadata": {},
   "source": [
    "The readme file might look like this:"
   ]
  },
  {
   "cell_type": "code",
   "execution_count": 20,
   "metadata": {},
   "outputs": [
    {
     "name": "stdout",
     "output_type": "stream",
     "text": [
      "Overwriting greetings_repo/README.md\n"
     ]
    }
   ],
   "source": [
    "%%writefile greetings_repo/README.md\n",
    "\n",
    "# Greetings!\n",
    "\n",
    "This is a very simple example package used as part of the UCL\n",
    "[Research Software Engineering with Python](development.rc.ucl.ac.uk/training/engineering) course.\n",
    "\n",
    "## Installation\n",
    "\n",
    "```bash\n",
    "pip install git+git://github.com/ucl-rits/greeter\n",
    "```\n",
    "\n",
    "## Usage\n",
    "    \n",
    "Invoke the tool with `greet <FirstName> <Secondname>` or use it on your own library:\n",
    "\n",
    "```python\n",
    "from greeting import greeter\n",
    "\n",
    "greeter.greet(user.name, user.lastname)\n",
    "```"
   ]
  },
  {
   "cell_type": "markdown",
   "metadata": {},
   "source": [
    "### Write a license file"
   ]
  },
  {
   "cell_type": "markdown",
   "metadata": {},
   "source": [
    "We will discus more about [licensing in a later section](https://github-pages.ucl.ac.uk/rsd-engineeringcourse/ch04packaging/07Licensing.html). For now let's assume we want to release this package into the public domain:"
   ]
  },
  {
   "cell_type": "code",
   "execution_count": 21,
   "metadata": {},
   "outputs": [
    {
     "name": "stdout",
     "output_type": "stream",
     "text": [
      "Overwriting greetings_repo/LICENSE.md\n"
     ]
    }
   ],
   "source": [
    "%%writefile greetings_repo/LICENSE.md\n",
    "\n",
    "(C) University College London 2014\n",
    "\n",
    "This \"greetings\" example package is granted into the public domain."
   ]
  },
  {
   "cell_type": "markdown",
   "metadata": {},
   "source": [
    "### Write a citation file"
   ]
  },
  {
   "cell_type": "markdown",
   "metadata": {},
   "source": [
    "A citation file will inform our users how we would like to be cited when refering to our software:"
   ]
  },
  {
   "cell_type": "code",
   "execution_count": 22,
   "metadata": {},
   "outputs": [
    {
     "name": "stdout",
     "output_type": "stream",
     "text": [
      "Overwriting greetings_repo/CITATION.md\n"
     ]
    }
   ],
   "source": [
    "%%writefile greetings_repo/CITATION.md\n",
    "\n",
    "If you wish to refer to this course, please cite the URL\n",
    "http://github-pages.ucl.ac.uk/rsd-engineeringcourse/\n",
    "\n",
    "Portions of the material are taken from [Software Carpentry](http://software-carpentry.org/)"
   ]
  },
  {
   "cell_type": "markdown",
   "metadata": {},
   "source": [
    "You may well want to formalise this using the [codemeta.json](https://codemeta.github.io/) standard or the [citation file format](http://citation-file-format.github.io/) - these don't have wide adoption yet, but we recommend it."
   ]
  },
  {
   "cell_type": "markdown",
   "metadata": {},
   "source": [
    "### Define packages and executables"
   ]
  },
  {
   "cell_type": "markdown",
   "metadata": {
    "collapsed": true
   },
   "source": [
    "We need to create `__init__` files for the source and the tests.\n",
    "```bash\n",
    "touch greetings/greetings/test/__init__.py\n",
    "touch greetings/greetings/__init__.py\n",
    "```"
   ]
  },
  {
   "cell_type": "markdown",
   "metadata": {},
   "source": [
    "### Write some unit tests"
   ]
  },
  {
   "cell_type": "markdown",
   "metadata": {},
   "source": [
    "We can now write some tests to our library. \n",
    "\n",
    "Remember, that we need to create the empty `__init__.py` files so that `pytest` can follow the relative imports."
   ]
  },
  {
   "cell_type": "code",
   "execution_count": 23,
   "metadata": {},
   "outputs": [],
   "source": [
    "%%bash\n",
    "touch greetings_repo/greetings/test/__init__.py"
   ]
  },
  {
   "cell_type": "markdown",
   "metadata": {},
   "source": [
    "\n",
    "Separating the script from the logical module made this possible.\n",
    "\n",
    "\n",
    "\n",
    "\n",
    "\n"
   ]
  },
  {
   "cell_type": "code",
   "execution_count": 24,
   "metadata": {},
   "outputs": [
    {
     "name": "stdout",
     "output_type": "stream",
     "text": [
      "Overwriting greetings_repo/greetings/test/test_greeter.py\n"
     ]
    }
   ],
   "source": [
    "%%writefile greetings_repo/greetings/test/test_greeter.py\n",
    "\n",
    "import os\n",
    "\n",
    "import yaml\n",
    "\n",
    "from ..greeter import greet\n",
    "\n",
    "def test_greet():\n",
    "    with open(os.path.join(os.path.dirname(__file__),\n",
    "                           'fixtures',\n",
    "                           'samples.yaml')) as fixtures_file:\n",
    "        fixtures = yaml.safe_load(fixtures_file)\n",
    "        for fixture in fixtures:\n",
    "            answer = fixture.pop('answer')\n",
    "            assert greet(**fixture) == answer"
   ]
  },
  {
   "cell_type": "markdown",
   "metadata": {},
   "source": [
    "\n",
    "\n",
    "\n",
    "Add a fixtures file:\n",
    "\n",
    "\n",
    "\n",
    "\n",
    "\n"
   ]
  },
  {
   "cell_type": "code",
   "execution_count": 25,
   "metadata": {},
   "outputs": [
    {
     "name": "stdout",
     "output_type": "stream",
     "text": [
      "Overwriting greetings_repo/greetings/test/fixtures/samples.yaml\n"
     ]
    }
   ],
   "source": [
    "%%writefile greetings_repo/greetings/test/fixtures/samples.yaml\n",
    "\n",
    "- personal: Eric\n",
    "  family: Idle\n",
    "  answer: \"Hey, Eric Idle.\"\n",
    "- personal: Graham\n",
    "  family: Chapman\n",
    "  polite: True\n",
    "  answer: \"How do you do, Graahm Chapman.\"\n",
    "- personal: Michael\n",
    "  family: Palin\n",
    "  title: CBE\n",
    "  answer: \"Hey, CBE Mike Palin.\"  "
   ]
  },
  {
   "cell_type": "markdown",
   "metadata": {},
   "source": [
    "We can now run `pytest`"
   ]
  },
  {
   "cell_type": "code",
   "execution_count": 26,
   "metadata": {
    "scrolled": false
   },
   "outputs": [
    {
     "name": "stdout",
     "output_type": "stream",
     "text": [
      "============================= test session starts ==============================\n",
      "platform linux -- Python 3.8.5, pytest-6.1.0, py-1.9.0, pluggy-0.13.1\n",
      "rootdir: .../rsd-engineeringcourse/ch04packaging/greetings_repo\n",
      "plugins: cov-2.10.1\n",
      "collected 1 item\n",
      "\n",
      "greetings/test/test_greeter.py F                                         [100%]\n",
      "\n",
      "=================================== FAILURES ===================================\n",
      "__________________________________ test_greet __________________________________\n",
      "\n",
      "    def test_greet():\n",
      "        with open(os.path.join(os.path.dirname(__file__),\n",
      "                               'fixtures',\n",
      "                               'samples.yaml')) as fixtures_file:\n",
      "            fixtures = yaml.safe_load(fixtures_file)\n",
      "            for fixture in fixtures:\n",
      "                answer = fixture.pop('answer')\n",
      ">               assert greet(**fixture) == answer\n",
      "E               AssertionError: assert 'How do you d...aham Chapman.' == 'How do you d...aahm Chapman.'\n",
      "E                 - How do you do, Graahm Chapman.\n",
      "E                 ?                    -\n",
      "E                 + How do you do, Graham Chapman.\n",
      "E                 ?                   +\n",
      "\n",
      "greetings/test/test_greeter.py:15: AssertionError\n",
      "=========================== short test summary info ============================\n",
      "FAILED greetings/test/test_greeter.py::test_greet - AssertionError: assert 'H...\n",
      "============================== 1 failed in 0.07s ===============================\n"
     ]
    }
   ],
   "source": [
    "%%bash --no-raise-error\n",
    "\n",
    "cd greetings_repo\n",
    "pytest"
   ]
  },
  {
   "cell_type": "markdown",
   "metadata": {},
   "source": [
    "However, this hasn't told us that also the third test is wrong too! A better aproach is to parametrize the testfile `greetings_repo/greetings/test/test_greeter.py` as follows:"
   ]
  },
  {
   "cell_type": "code",
   "execution_count": 27,
   "metadata": {},
   "outputs": [
    {
     "name": "stdout",
     "output_type": "stream",
     "text": [
      "Overwriting greetings_repo/greetings/test/test_greeter.py\n"
     ]
    }
   ],
   "source": [
    "%%writefile greetings_repo/greetings/test/test_greeter.py\n",
    "\n",
    "import os\n",
    "\n",
    "import pytest\n",
    "import yaml\n",
    "\n",
    "from ..greeter import greet\n",
    "\n",
    "def read_fixture():\n",
    "    with open(os.path.join(os.path.dirname(__file__),\n",
    "                           'fixtures',\n",
    "                           'samples.yaml')) as fixtures_file:\n",
    "        fixtures = yaml.safe_load(fixtures_file)\n",
    "    return fixtures\n",
    "\n",
    "@pytest.mark.parametrize(\"fixture\", read_fixture())\n",
    "def test_greeter(fixture):\n",
    "    answer = fixture.pop('answer')\n",
    "    assert greet(**fixture) == answer"
   ]
  },
  {
   "cell_type": "markdown",
   "metadata": {},
   "source": [
    "Now when we run `pytest`, we get a failure per element in our fixture and we know all that fails."
   ]
  },
  {
   "cell_type": "code",
   "execution_count": 28,
   "metadata": {},
   "outputs": [
    {
     "name": "stdout",
     "output_type": "stream",
     "text": [
      "============================= test session starts ==============================\n",
      "platform linux -- Python 3.8.5, pytest-6.1.0, py-1.9.0, pluggy-0.13.1\n",
      "rootdir: .../rsd-engineeringcourse/ch04packaging/greetings_repo\n",
      "plugins: cov-2.10.1\n",
      "collected 3 items\n",
      "\n",
      "greetings/test/test_greeter.py .FF                                       [100%]\n",
      "\n",
      "=================================== FAILURES ===================================\n",
      "____________________________ test_greeter[fixture1] ____________________________\n",
      "\n",
      "fixture = {'family': 'Chapman', 'personal': 'Graham', 'polite': True}\n",
      "\n",
      "    @pytest.mark.parametrize(\"fixture\", read_fixture())\n",
      "    def test_greeter(fixture):\n",
      "        answer = fixture.pop('answer')\n",
      ">       assert greet(**fixture) == answer\n",
      "E       AssertionError: assert 'How do you d...aham Chapman.' == 'How do you d...aahm Chapman.'\n",
      "E         - How do you do, Graahm Chapman.\n",
      "E         ?                    -\n",
      "E         + How do you do, Graham Chapman.\n",
      "E         ?                   +\n",
      "\n",
      "greetings/test/test_greeter.py:19: AssertionError\n",
      "____________________________ test_greeter[fixture2] ____________________________\n",
      "\n",
      "fixture = {'family': 'Palin', 'personal': 'Michael', 'title': 'CBE'}\n",
      "\n",
      "    @pytest.mark.parametrize(\"fixture\", read_fixture())\n",
      "    def test_greeter(fixture):\n",
      "        answer = fixture.pop('answer')\n",
      ">       assert greet(**fixture) == answer\n",
      "E       AssertionError: assert 'Hey, CBE Michael Palin.' == 'Hey, CBE Mike Palin.'\n",
      "E         - Hey, CBE Mike Palin.\n",
      "E         ?            ^\n",
      "E         + Hey, CBE Michael Palin.\n",
      "E         ?            ^^^ +\n",
      "\n",
      "greetings/test/test_greeter.py:19: AssertionError\n",
      "=========================== short test summary info ============================\n",
      "FAILED greetings/test/test_greeter.py::test_greeter[fixture1] - AssertionErro...\n",
      "FAILED greetings/test/test_greeter.py::test_greeter[fixture2] - AssertionErro...\n",
      "========================= 2 failed, 1 passed in 0.08s ==========================\n"
     ]
    }
   ],
   "source": [
    "%%bash --no-raise-error\n",
    "\n",
    "cd greetings_repo\n",
    "pytest"
   ]
  },
  {
   "cell_type": "markdown",
   "metadata": {},
   "source": [
    "We can also make pytest to check whether the docstrings are correct by adding the `--doctest-modules` flag. We run `pytest --doctest-modules` and obtain the following output:"
   ]
  },
  {
   "cell_type": "code",
   "execution_count": 29,
   "metadata": {},
   "outputs": [
    {
     "name": "stdout",
     "output_type": "stream",
     "text": [
      "============================= test session starts ==============================\n",
      "platform linux -- Python 3.8.5, pytest-6.1.0, py-1.9.0, pluggy-0.13.1\n",
      "rootdir: .../rsd-engineeringcourse/ch04packaging/greetings_repo\n",
      "plugins: cov-2.10.1\n",
      "collected 4 items\n",
      "\n",
      "greetings/greeter.py F                                                   [ 25%]\n",
      "greetings/test/test_greeter.py .FF                                       [100%]\n",
      "\n",
      "=================================== FAILURES ===================================\n",
      "______________________ [doctest] greetings.greeter.greet _______________________\n",
      "012     polite: bool\n",
      "013         True for a formal greeting, False for informal.\n",
      "014     Returns\n",
      "015     -------\n",
      "016     string\n",
      "017         An appropriate greeting\n",
      "018     Examples\n",
      "019     --------\n",
      "020     >>> from greetings.greeter import greet\n",
      "021     >>> greet(\"Terry\", \"Jones\")\n",
      "Expected:\n",
      "    'Hey, Terry Jones.\n",
      "Got:\n",
      "    'Hey, Terry Jones.'\n",
      "\n",
      ".../rsd-engineeringcourse/ch04packaging/greetings_repo/greetings/greeter.py:21: DocTestFailure\n",
      "____________________________ test_greeter[fixture1] ____________________________\n",
      "\n",
      "fixture = {'family': 'Chapman', 'personal': 'Graham', 'polite': True}\n",
      "\n",
      "    @pytest.mark.parametrize(\"fixture\", read_fixture())\n",
      "    def test_greeter(fixture):\n",
      "        answer = fixture.pop('answer')\n",
      ">       assert greet(**fixture) == answer\n",
      "E       AssertionError: assert 'How do you d...aham Chapman.' == 'How do you d...aahm Chapman.'\n",
      "E         - How do you do, Graahm Chapman.\n",
      "E         ?                    -\n",
      "E         + How do you do, Graham Chapman.\n",
      "E         ?                   +\n",
      "\n",
      "greetings/test/test_greeter.py:19: AssertionError\n",
      "____________________________ test_greeter[fixture2] ____________________________\n",
      "\n",
      "fixture = {'family': 'Palin', 'personal': 'Michael', 'title': 'CBE'}\n",
      "\n",
      "    @pytest.mark.parametrize(\"fixture\", read_fixture())\n",
      "    def test_greeter(fixture):\n",
      "        answer = fixture.pop('answer')\n",
      ">       assert greet(**fixture) == answer\n",
      "E       AssertionError: assert 'Hey, CBE Michael Palin.' == 'Hey, CBE Mike Palin.'\n",
      "E         - Hey, CBE Mike Palin.\n",
      "E         ?            ^\n",
      "E         + Hey, CBE Michael Palin.\n",
      "E         ?            ^^^ +\n",
      "\n",
      "greetings/test/test_greeter.py:19: AssertionError\n",
      "=========================== short test summary info ============================\n",
      "FAILED greetings/greeter.py::greetings.greeter.greet\n",
      "FAILED greetings/test/test_greeter.py::test_greeter[fixture1] - AssertionErro...\n",
      "FAILED greetings/test/test_greeter.py::test_greeter[fixture2] - AssertionErro...\n",
      "========================= 3 failed, 1 passed in 0.12s ==========================\n"
     ]
    }
   ],
   "source": [
    "%%bash --no-raise-error\n",
    "\n",
    "cd greetings_repo\n",
    "pytest --doctest-modules"
   ]
  },
  {
   "cell_type": "markdown",
   "metadata": {},
   "source": [
    "Finally, if we don't want to include the tests when we distribute our software for our users, you can include that using the `exclude` option on `find_packages` on `setup.py`."
   ]
  },
  {
   "cell_type": "code",
   "execution_count": 30,
   "metadata": {},
   "outputs": [
    {
     "name": "stdout",
     "output_type": "stream",
     "text": [
      "Overwriting greetings_repo/setup.py\n"
     ]
    }
   ],
   "source": [
    "%%writefile greetings_repo/setup.py\n",
    "\n",
    "from setuptools import setup, find_packages\n",
    "\n",
    "setup(\n",
    "    name=\"Greetings\",\n",
    "    version=\"0.1.0\",\n",
    "    packages=find_packages(exclude=['*.test']),\n",
    "    install_requires=['art', 'pyyaml'],\n",
    "    entry_points={\n",
    "        'console_scripts': [\n",
    "            'greet = greetings.command:process'\n",
    "        ]}    \n",
    "    )"
   ]
  },
  {
   "cell_type": "markdown",
   "metadata": {},
   "source": [
    "### Developer Install"
   ]
  },
  {
   "cell_type": "markdown",
   "metadata": {},
   "source": [
    "\n",
    "If you modify your source files, you would now find it appeared as if the program doesn't change.\n",
    "\n",
    "That's because pip install **copies** the files.\n",
    "\n",
    "If you want to install a package, but keep working on it, you can do:"
   ]
  },
  {
   "cell_type": "markdown",
   "metadata": {},
   "source": [
    "```bash\n",
    "pip install --editable .\n",
    "```\n",
    "\n",
    "or, its shorter version:\n",
    "\n",
    "```bash\n",
    "pip install -e .\n",
    "```"
   ]
  },
  {
   "cell_type": "markdown",
   "metadata": {},
   "source": [
    "### Distributing compiled code"
   ]
  },
  {
   "cell_type": "markdown",
   "metadata": {},
   "source": [
    "\n",
    "If you're working in C++ or Fortran, there is no language specific repository.\n",
    "You'll need to write platform installers for as many platforms as you want to\n",
    "support.\n",
    "\n",
    "Typically:\n",
    "\n",
    "* `dpkg` for `apt-get` on Ubuntu and Debian\n",
    "* `rpm` for `yum`/`dnf` on Redhat and Fedora\n",
    "* `homebrew` on OSX (Possibly `macports` as well)\n",
    "* An executable `msi` installer for Windows.\n"
   ]
  },
  {
   "cell_type": "markdown",
   "metadata": {},
   "source": [
    "#### Homebrew"
   ]
  },
  {
   "cell_type": "markdown",
   "metadata": {},
   "source": [
    "\n",
    "Homebrew: A ruby DSL, you host off your own webpage\n",
    "\n",
    "See an [installer for the cppcourse example](http://github.com/jamespjh/homebrew-reactor)\n",
    "\n",
    "If you're on OSX, do:\n"
   ]
  },
  {
   "cell_type": "markdown",
   "metadata": {},
   "source": [
    "```\n",
    "brew tap jamespjh/homebrew-reactor\n",
    "brew install reactor\n",
    "```"
   ]
  }
 ],
 "metadata": {
  "jekyll": {
   "display_name": "Packaging"
  },
  "kernelspec": {
   "display_name": "Python 3",
   "language": "python",
   "name": "python3"
  },
  "language_info": {
   "codemirror_mode": {
    "name": "ipython",
    "version": 3
   },
   "file_extension": ".py",
   "mimetype": "text/x-python",
   "name": "python",
   "nbconvert_exporter": "python",
   "pygments_lexer": "ipython3",
   "version": "3.8.5"
  }
 },
 "nbformat": 4,
 "nbformat_minor": 1
}

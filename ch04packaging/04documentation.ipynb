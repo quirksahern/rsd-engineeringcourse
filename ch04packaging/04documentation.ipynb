{
 "cells": [
  {
   "cell_type": "markdown",
   "metadata": {},
   "source": [
    "## Documentation"
   ]
  },
  {
   "cell_type": "markdown",
   "metadata": {},
   "source": [
    "### Documentation is hard"
   ]
  },
  {
   "cell_type": "markdown",
   "metadata": {},
   "source": [
    "\n",
    "* Good documentation is hard, and very expensive.\n",
    "* Bad documentation is detrimental.\n",
    "* Good documentation quickly becomes bad if not kept up-to-date with code changes.\n",
    "* Professional companies pay large teams of documentation writers.\n"
   ]
  },
  {
   "cell_type": "markdown",
   "metadata": {},
   "source": [
    "### Prefer readable code with tests and vignettes"
   ]
  },
  {
   "cell_type": "markdown",
   "metadata": {},
   "source": [
    "\n",
    "If you don't have the capacity to maintain great documentation,\n",
    "focus on:\n",
    "\n",
    "* Readable code\n",
    "* Automated tests\n",
    "* Small code samples demonstrating how to use the api\n"
   ]
  },
  {
   "cell_type": "markdown",
   "metadata": {},
   "source": [
    "### Comment-based Documentation tools"
   ]
  },
  {
   "cell_type": "markdown",
   "metadata": {},
   "source": [
    "\n",
    "Documentation tools can produce extensive documentation about your code by pulling out comments near the beginning of functions,\n",
    "together with the signature, into a web page.\n",
    "\n",
    "The most popular is [Doxygen](http://www.doxygen.nl/).\n",
    "\n",
    "Here are some other documentation tools used in different languages, have a look at the generated and source examples:\n",
    "\n",
    "\n",
    "| Language | Name                                                                                | Output example                                                                      | source                                                                                                                                           |\n",
    "| ---      | ---                                                                                 | ---                                                                                 | ---                                                                                                                                              |\n",
    "| Multiple | [Doxygen](http://www.doxygen.nl/)                                                   | [`Array` docs](https://eigen.tuxfamily.org/dox/classEigen_1_1Array.html)            | [`Array` docstring source](https://gitlab.com/libeigen/eigen/-/blob/55e3ae02ac1f13fbcc7a83f5e37a39fd2b142db1/Eigen/src/Core/Array.h#L26-L45)     |\n",
    "| Python   | [Sphinx](http://sphinx-doc.org/)                                                    | [`numpy.ones` docs](https://numpy.org/doc/1.21/reference/generated/numpy.ones.html) | [`numpy.ones` docstring source](https://github.com/numpy/numpy/blob/v1.21.0/numpy/core/numeric.py#L149-L206)                                     |\n",
    "| R        | [pkgdown](https://pkgdown.r-lib.org/) |  [`stringr`'s `str_unique`](https://stringr.tidyverse.org/reference/str_unique.html)                                                  | [`stringr`'s `str_unique` docstring source](https://github.com/tidyverse/stringr/blob/main/R/unique.R)                                                    |\n",
    "| Julia    | [Documnenter.jl](https://juliadocs.github.io/Documenter.jl/stable/)                 | [`ones` docs](https://docs.julialang.org/en/v1/base/arrays/#Base.ones)              | [`ones` docstring source](https://github.com/JuliaLang/julia/blob/ae8452a9e0b973991c30f27beb2201db1b0ea0d3/base/array.jl#L475-L493)              |\n",
    "| Fortan   | [FORD](https://github.com/Fortran-FOSS-Programmers/ford)                            | [`arange` docs](https://stdlib.fortran-lang.org/interface/arange.html)              | [`arange` docstring source](https://github.com/fortran-lang/stdlib/blob/d14fca8e7cc36ed5f6f84d2bf576c91c2e54eb07/src/stdlib_math.fypp#L276-L290) |\n",
    "| Rust     | [rustdoc](https://doc.rust-lang.org/rustdoc/what-is-rustdoc.html)                   | [`Matrix` docs](https://docs.rs/nalgebra/0.18.0/nalgebra/base/struct.Matrix.html)   | [`Matrix` docstring source](https://github.com/dimforge/nalgebra/blob/8ea8ac70d5ad4bae865e6246a48455bf0b3fa3d2/src/base/matrix.rs#L59-L157)      |\n",
    "\n",
    "[Breathe](https://breathe.readthedocs.io/en/latest/) can be used to make Sphinx and Doxygen work together (good to keep documentation, for example, of a C++ project that includes Python bindings). [roxygen2](https://cran.r-project.org/web/packages/roxygen2/vignettes/roxygen2.html) is another good option for R packages.\n",
    "\n",
    "\n"
   ]
  },
  {
   "cell_type": "markdown",
   "metadata": {},
   "source": [
    "## Example of using Sphinx"
   ]
  },
  {
   "cell_type": "markdown",
   "metadata": {},
   "source": [
    "### Write some docstrings"
   ]
  },
  {
   "cell_type": "markdown",
   "metadata": {},
   "source": [
    "We're going to document our \"greeter\" example from the previous section using docstrings with Sphinx.\n",
    "\n",
    "There are various conventions for how to write docstrings, but the native Sphinx one doesn't look nice when used with\n",
    "the built in `help` system.\n",
    "\n",
    "In writing Greeter, we used the [docstring conventions from NumPy](https://numpy.org/doc/stable/docs/howto_document.html).\n",
    "So we use the [`numpydoc`](https://numpydoc.readthedocs.io/en/latest/) sphinx extension to\n",
    "support these (Note: you will need to install this extension for the later examples to work)."
   ]
  },
  {
   "cell_type": "markdown",
   "metadata": {},
   "source": [
    "```python\n",
    "\"\"\" \n",
    "Generate a greeting string for a person.\n",
    "\n",
    "Parameters\n",
    "----------\n",
    "personal: str\n",
    "    A given name, such as Will or Jean-Luc\n",
    "\n",
    "family: str\n",
    "    A family name, such as Riker or Picard\n",
    "\n",
    "title: str\n",
    "    An optional title, such as Captain or Reverend\n",
    "\n",
    "polite: bool\n",
    "    True for a formal greeting, False for informal.\n",
    "\n",
    "Returns\n",
    "-------\n",
    "string\n",
    "    An appropriate greeting\n",
    "\"\"\"\n",
    "```"
   ]
  },
  {
   "cell_type": "markdown",
   "metadata": {},
   "source": [
    "### Set up Sphinx"
   ]
  },
  {
   "cell_type": "markdown",
   "metadata": {},
   "source": [
    "Install Sphinx using the [appropiate instructions](https://www.sphinx-doc.org/en/master/usage/installation.html) for your system following the documentation online.\n",
    "(Note that your output and the linked documentation may differ slightly depending on when you installed Sphinx and what version you're using.)"
   ]
  },
  {
   "cell_type": "markdown",
   "metadata": {},
   "source": [
    "\n",
    "Invoke the [sphinx-quickstart](https://www.sphinx-doc.org/en/master/usage/quickstart.html) command to build Sphinx's\n",
    "configuration file automatically based on questions\n",
    "at the command line:"
   ]
  },
  {
   "cell_type": "markdown",
   "metadata": {},
   "source": [
    "``` bash\n",
    "sphinx-quickstart\n",
    "```"
   ]
  },
  {
   "cell_type": "markdown",
   "metadata": {},
   "source": [
    "Which responds:"
   ]
  },
  {
   "cell_type": "markdown",
   "metadata": {},
   "source": [
    "```\n",
    "Welcome to the Sphinx 4.2.0 quickstart utility.\n",
    "\n",
    "Please enter values for the following settings (just press Enter to\n",
    "accept a default value, if one is given in brackets).\n",
    "\n",
    "Selected root path: .\n",
    "\n",
    "You have two options for placing the build directory for Sphinx output.\n",
    "Either, you use a directory \"_build\" within the root path, or you separate\n",
    "\"source\" and \"build\" directories within the root path.\n",
    "> Separate source and build directories (y/n) [n]:\n",
    "\n",
    "The project name will occur in several places in the built documentation.\n",
    "> Project name: Greetings\n",
    "> Author name(s): James Hetherington\n",
    "> Project release []: 0.1\n",
    "\n",
    "If the documents are to be written in a language other than English,\n",
    "you can select a language here by its language code. Sphinx will then\n",
    "translate text that it generates into that language.\n",
    "\n",
    "For a list of supported codes, see\n",
    "https://www.sphinx-doc.org/en/master/usage/configuration.html#confval-language.\n",
    "> Project language [en]:\n",
    "\n",
    "Creating file ./conf.py.\n",
    "Creating file ./index.rst.\n",
    "Creating file ./Makefile.\n",
    "Creating file ./make.bat.\n",
    "\n",
    "Finished: An initial directory structure has been created.\n",
    "\n",
    "You should now populate your master file /tmp/index.rst and create other documentation\n",
    "source files. Use the Makefile to build the docs, like so:\n",
    "   make builder\n",
    "where \"builder\" is one of the supported builders, e.g. html, latex or linkcheck.\n",
    "```"
   ]
  },
  {
   "cell_type": "markdown",
   "metadata": {},
   "source": [
    "and then look at and adapt the generated config - a file called\n",
    "`conf.py` in the root of the project - with, for example, the extensions we want to use.\n",
    "This config file contains the project's Sphinx configuration, as Python variables:"
   ]
  },
  {
   "cell_type": "markdown",
   "metadata": {},
   "source": [
    "``` python\n",
    "#Add any Sphinx extension module names here, as strings. They can be\n",
    "#extensions coming with Sphinx (named 'sphinx.ext.*') or your custom\n",
    "# ones.\n",
    "extensions = [\n",
    "    'sphinx.ext.autodoc',  # Support automatic documentation\n",
    "    'sphinx.ext.coverage', # Automatically check if functions are documented\n",
    "    'sphinx.ext.mathjax',  # Allow support for algebra\n",
    "    'sphinx.ext.viewcode', # Include the source code in documentation\n",
    "    'numpydoc'             # Support NumPy style docstrings\n",
    "]\n",
    "```"
   ]
  },
  {
   "cell_type": "markdown",
   "metadata": {},
   "source": [
    "To proceed with the example, we'll copy a finished conf.py into our folder, though normally you'll always use `sphinx-quickstart`\n"
   ]
  },
  {
   "cell_type": "code",
   "execution_count": 1,
   "metadata": {
    "collapsed": false,
    "jupyter": {
     "outputs_hidden": false
    }
   },
   "outputs": [
    {
     "name": "stdout",
     "output_type": "stream",
     "text": [
      "Overwriting greetings/conf.py\n"
     ]
    }
   ],
   "source": [
    "%%writefile greetings/conf.py\n",
    "\n",
    "import sys\n",
    "import os\n",
    "\n",
    "# We need to tell Sphinx where to look for modules\n",
    "sys.path.insert(0, os.path.abspath('.'))\n",
    "\n",
    "extensions = [\n",
    "    'sphinx.ext.autodoc',  # Support automatic documentation\n",
    "    'sphinx.ext.coverage', # Automatically check if functions are documented\n",
    "    'sphinx.ext.mathjax',  # Allow support for algebra\n",
    "    'sphinx.ext.viewcode', # Include the source code in documentation\n",
    "    'numpydoc'             # Support NumPy style docstrings\n",
    "]\n",
    "templates_path = ['_templates']\n",
    "source_suffix = '.rst'\n",
    "master_doc = 'index'\n",
    "project = 'Greetings'\n",
    "copyright = '2014, James Hetherington'\n",
    "version = '0.1'\n",
    "release = '0.1'\n",
    "exclude_patterns = ['_build', 'Thumbs.db', '.DS_Store']\n",
    "html_theme = 'alabaster'\n",
    "pygments_style = 'sphinx'\n",
    "htmlhelp_basename = 'Greetingsdoc'\n",
    "latex_elements = {\n",
    "}\n",
    "\n",
    "latex_documents = [\n",
    "  ('index', 'Greetings.tex', 'Greetings Documentation',\n",
    "   'James Hetherington', 'manual'),\n",
    "]\n",
    "\n",
    "man_pages = [\n",
    "    ('index', 'greetings', 'Greetings Documentation',\n",
    "     ['James Hetherington'], 1)\n",
    "]\n",
    "\n",
    "texinfo_documents = [\n",
    "  ('index', 'Greetings', u'Greetings Documentation',\n",
    "   'James Hetherington', 'Greetings', 'One line description of project.',\n",
    "   'Miscellaneous'),\n",
    "]"
   ]
  },
  {
   "cell_type": "markdown",
   "metadata": {},
   "source": [
    "### Define the root documentation page"
   ]
  },
  {
   "cell_type": "markdown",
   "metadata": {},
   "source": [
    "\n",
    "Sphinx uses [RestructuredText](https://docutils.sourceforge.io/rst.html) another wiki markup format similar to Markdown.\n",
    "\n",
    "You define an \"index.rst\" file to contain any preamble text you want. The rest is autogenerated by `sphinx-quickstart`\n",
    "\n",
    "\n",
    "\n",
    "\n",
    "\n"
   ]
  },
  {
   "cell_type": "code",
   "execution_count": 2,
   "metadata": {
    "collapsed": false,
    "jupyter": {
     "outputs_hidden": false
    }
   },
   "outputs": [
    {
     "name": "stdout",
     "output_type": "stream",
     "text": [
      "Overwriting greetings/index.rst\n"
     ]
    }
   ],
   "source": [
    "%%writefile greetings/index.rst\n",
    "Welcome to Greetings's documentation!\n",
    "=====================================\n",
    "\n",
    "Simple \"Hello, James\" module developed to teach research software engineering.\n",
    "\n",
    ".. autofunction:: greetings.greeter.greet"
   ]
  },
  {
   "cell_type": "markdown",
   "metadata": {},
   "source": [
    "###  Run sphinx"
   ]
  },
  {
   "cell_type": "markdown",
   "metadata": {},
   "source": [
    "\n",
    "We can run Sphinx using:\n"
   ]
  },
  {
   "cell_type": "code",
   "execution_count": 3,
   "metadata": {
    "collapsed": false,
    "jupyter": {
     "outputs_hidden": false
    }
   },
   "outputs": [
    {
     "name": "stdout",
     "output_type": "stream",
     "text": [
      "Running Sphinx v4.2.0\n"
     ]
    },
    {
     "name": "stderr",
     "output_type": "stream",
     "text": []
    }
   ],
   "source": [
    "%%bash\n",
    "cd greetings/\n",
    "sphinx-build . doc"
   ]
  },
  {
   "cell_type": "markdown",
   "metadata": {},
   "source": [
    "### Sphinx output"
   ]
  },
  {
   "cell_type": "markdown",
   "metadata": {},
   "source": [
    "Sphinx's output is [html](./greetings/doc/index.html). We just created a simple single function's documentation, but Sphinx will create\n",
    "multiple nested pages of documentation automatically for many functions.\n",
    "\n",
    "\n",
    "\n"
   ]
  },
  {
   "cell_type": "markdown",
   "metadata": {},
   "source": [
    "## Doctest - testing your documentation is up to date"
   ]
  },
  {
   "cell_type": "markdown",
   "metadata": {},
   "source": [
    "`doctest` is a module included in the standard library. It runs all the code within the docstrings and checks whether the output is what it's claimed on the documentation.\n",
    "\n",
    "Let's add an example to our greeting function and check it with `doctest`. We are leaving the output with a small typo (missing the closing quote `'`) to see what's the type of output we get from `doctest`."
   ]
  },
  {
   "cell_type": "code",
   "execution_count": 4,
   "metadata": {},
   "outputs": [
    {
     "name": "stdout",
     "output_type": "stream",
     "text": [
      "Overwriting greetings/greetings/greeter.py\n"
     ]
    }
   ],
   "source": [
    "%%writefile greetings/greetings/greeter.py\n",
    "def greet(personal, family, title=\"\", polite=False):\n",
    "    \"\"\" Generate a greeting string for a person.\n",
    "\n",
    "    Parameters\n",
    "    ----------\n",
    "    personal: str\n",
    "        A given name, such as Will or Jean-Luc\n",
    "    family: str\n",
    "        A family name, such as Riker or Picard\n",
    "    title: str\n",
    "        An optional title, such as Captain or Reverend\n",
    "    polite: bool\n",
    "        True for a formal greeting, False for informal.\n",
    "\n",
    "    Returns\n",
    "    -------\n",
    "    string\n",
    "        An appropriate greeting\n",
    "        \n",
    "    Examples\n",
    "    --------\n",
    "    >>> from greetings.greeter import greet\n",
    "    >>> greet(\"Terry\", \"Jones\")\n",
    "    'Hey, Terry Jones.\n",
    "    \"\"\"\n",
    "\n",
    "    greeting= \"How do you do, \" if polite else \"Hey, \"\n",
    "    if title:\n",
    "        greeting += f\"{title} \"\n",
    "\n",
    "    greeting += f\"{personal} {family}.\"\n",
    "    return greeting"
   ]
  },
  {
   "cell_type": "code",
   "execution_count": 5,
   "metadata": {},
   "outputs": [
    {
     "name": "stdout",
     "output_type": "stream",
     "text": [
      "**********************************************************************\n",
      "File \"greetings/greetings/greeter.py\", line 23, in greeter.greet\n",
      "Failed example:\n",
      "    greet(\"Terry\", \"Jones\")\n",
      "Expected:\n",
      "    'Hey, Terry Jones.\n",
      "Got:\n",
      "    'Hey, Terry Jones.'\n",
      "**********************************************************************\n",
      "1 items had failures:\n",
      "   1 of   2 in greeter.greet\n",
      "***Test Failed*** 1 failures.\n"
     ]
    }
   ],
   "source": [
    "%%bash --no-raise-error\n",
    "python -m doctest greetings/greetings/greeter.py"
   ]
  },
  {
   "cell_type": "markdown",
   "metadata": {},
   "source": [
    " "
   ]
  },
  {
   "cell_type": "markdown",
   "metadata": {},
   "source": [
    "which clearly identifies a tiny error in our example."
   ]
  },
  {
   "cell_type": "markdown",
   "metadata": {},
   "source": [
    "pytest can run the doctest too if you call it as:\n",
    "\n",
    "`pytest  --doctest-modules`"
   ]
  }
 ],
 "metadata": {
  "jekyll": {
   "display_name": "Documentation"
  },
  "kernelspec": {
   "display_name": "Python 3",
   "language": "python",
   "name": "python3"
  },
  "language_info": {
   "codemirror_mode": {
    "name": "ipython",
    "version": 3
   },
   "file_extension": ".py",
   "mimetype": "text/x-python",
   "name": "python",
   "nbconvert_exporter": "python",
   "pygments_lexer": "ipython3",
   "version": "3.8.5"
  }
 },
 "nbformat": 4,
 "nbformat_minor": 4
}

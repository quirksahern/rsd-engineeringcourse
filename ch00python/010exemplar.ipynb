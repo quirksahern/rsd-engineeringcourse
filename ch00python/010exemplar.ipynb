{
 "cells": [
  {
   "cell_type": "markdown",
   "id": "509991bf-4254-42cf-a920-01409397df27",
   "metadata": {
    "collapsed": false
   },
   "source": [
    "## An example Python data analysis notebook"
   ]
  },
  {
   "cell_type": "markdown",
   "id": "91e7e105-01bd-4428-9a89-12760bc4d215",
   "metadata": {
    "collapsed": false
   },
   "source": [
    "This page illustrates how to use Python to perform a simple but complete analysis: retrieve data, do some computations based on it, and visualise the results.\n",
    "\n",
    "**Don't worry if you don't understand everything on this page!** Its purpose is to give you an example of things you can do and how to go about doing them - you are not expected to be able to reproduce an analysis like this in Python at this stage! We will be looking at the concepts and practices introduced on this page as we go along the course.\n",
    "\n",
    "As we show the code for different parts of the work, we will be touching on various aspects you may want to keep in mind, either related to Python specifically, or to research programming more generally."
   ]
  },
  {
   "cell_type": "markdown",
   "id": "63aa8d16-e3d3-45a6-81bd-7aa871783803",
   "metadata": {
    "collapsed": false
   },
   "source": [
    "### Why write software to manage your data and plots? "
   ]
  },
  {
   "cell_type": "markdown",
   "id": "c18c767c-1104-4721-9d9d-900118b94b71",
   "metadata": {
    "collapsed": false
   },
   "source": [
    "We can use programs for our entire research pipeline. Not just big scientific simulation codes, but also the small scripts which we use to tidy up data and produce plots. This should be code, so that the whole research pipeline\n",
    "is recorded for reproducibility. Data manipulation in spreadsheets is much harder to share or \n",
    "check. "
   ]
  },
  {
   "cell_type": "markdown",
   "id": "2fc5cdf5-2c30-4919-8eea-fc5be2d81176",
   "metadata": {
    "collapsed": false
   },
   "source": [
    "You can see another similar demonstration on the [software carpentry site](https://swcarpentry.github.io/python-novice-inflammation/02-numpy/index.html). \n",
    "We'll try to give links to other sources of Python training along the way.\n",
    "Part of our approach is that we assume you know how to use the internet! If you\n",
    "find something confusing out there, please bring it along to the next session. In this course, we'll always try to draw your attention to other sources of information about what we're learning. Paying attention to as many of these as you need to, is just as important as these core notes."
   ]
  },
  {
   "cell_type": "markdown",
   "id": "89550a1f-fa7c-4e3f-91ea-31a8f3feb6df",
   "metadata": {
    "collapsed": false
   },
   "source": [
    "### Importing Libraries"
   ]
  },
  {
   "cell_type": "markdown",
   "id": "de42729b-9068-48c3-9ec0-f9abdc7f0139",
   "metadata": {
    "collapsed": false
   },
   "source": [
    "Research programming is all about using libraries: tools other people have provided programs that do many cool things.\n",
    "By combining them we can feel really powerful but doing minimum work ourselves. The python syntax to import someone else's library is \"import\"."
   ]
  },
  {
   "cell_type": "code",
   "execution_count": null,
   "id": "0ec6111e-a8ab-451d-9283-0167225a8287",
   "metadata": {
    "collapsed": false
   },
   "outputs": [],
   "source": [
    "import geopy # A python library for investigating geographic information.\n",
    "# https://pypi.org/project/geopy/"
   ]
  },
  {
   "cell_type": "markdown",
   "id": "2212fac0-cb09-439d-a774-f71073661590",
   "metadata": {
    "collapsed": false
   },
   "source": [
    "Now, if you try to follow along on this example in an Jupyter notebook, you'll probably find that \n",
    "you just got an error message.\n",
    "\n",
    "You'll need to wait until we've covered installation of additional python libraries later in the course, then come\n",
    "back to this and try again. For now, just follow along and try get the feel for how programming for data-focused\n",
    "research works."
   ]
  },
  {
   "cell_type": "code",
   "execution_count": null,
   "id": "90e82608-11eb-4b00-a55d-921a4327424a",
   "metadata": {
    "collapsed": false
   },
   "outputs": [],
   "source": [
    "# Select geocoding service provided by OpenStreetMap's Nominatim - https://wiki.openstreetmap.org/wiki/Nominatim\n",
    "geocoder = geopy.geocoders.Nominatim(user_agent=\"comp0023\") \n",
    "geocoder.geocode('Cambridge', exactly_one=False)"
   ]
  },
  {
   "cell_type": "markdown",
   "id": "0d846e37-06d7-4e22-b003-93ec27653a48",
   "metadata": {
    "collapsed": false
   },
   "source": [
    "The results come out as a **list** inside a list: `[Name, [Latitude, Longitude]]`. \n",
    "Programs represent data in a variety of different **containers** like this."
   ]
  },
  {
   "cell_type": "markdown",
   "id": "a854d069-b61f-4f44-aeec-312731c18b74",
   "metadata": {
    "collapsed": false
   },
   "source": [
    "### Comments"
   ]
  },
  {
   "cell_type": "markdown",
   "id": "1726df07-e6f6-408e-adfe-35e07289ab04",
   "metadata": {
    "collapsed": false
   },
   "source": [
    "Code after a `#` symbol doesn't get run."
   ]
  },
  {
   "cell_type": "code",
   "execution_count": null,
   "id": "caf0eef7-3a09-4f1c-a687-2e111ad6d716",
   "metadata": {
    "collapsed": false
   },
   "outputs": [],
   "source": [
    "print(\"This runs\") # print(\"This doesn't\")\n",
    "# print(\"This doesn't either\")"
   ]
  },
  {
   "cell_type": "markdown",
   "id": "d68c579a-68f4-4b05-83d5-464e3f0a36f6",
   "metadata": {
    "collapsed": false
   },
   "source": [
    "### Functions"
   ]
  },
  {
   "cell_type": "markdown",
   "id": "55d5be54-c7fd-4d21-a0a2-325851e4e72b",
   "metadata": {
    "collapsed": false
   },
   "source": [
    "We can wrap code up in a **function**, so that we can repeatedly get just the information we want.\n"
   ]
  },
  {
   "cell_type": "code",
   "execution_count": null,
   "id": "b5c73c15-e800-46b6-a9c0-d31ae7bd997f",
   "metadata": {
    "collapsed": false
   },
   "outputs": [],
   "source": [
    "def geolocate(city):\n",
    "    \"\"\"Get the latitude and longitude of a specific location.\"\"\"\n",
    "    \n",
    "    full_name, coordinates = geocoder.geocode(city)\n",
    "    return coordinates"
   ]
  },
  {
   "cell_type": "markdown",
   "id": "071150fb-2618-447e-8b90-6003c7ebd181",
   "metadata": {
    "collapsed": false
   },
   "source": [
    "Defining **functions** which put together code to make a more complex task seem simple from the outside is the most important thing in programming. The output of the function is specified using the `return` keyword. The input to the function is put inside brackets after the function name:\n"
   ]
  },
  {
   "cell_type": "code",
   "execution_count": null,
   "id": "244339f8-0dd5-44d5-a18b-7542bee4c45f",
   "metadata": {
    "collapsed": false
   },
   "outputs": [],
   "source": [
    "geolocate(city='Cambridge')"
   ]
  },
  {
   "cell_type": "markdown",
   "id": "5873fc4d-bc1f-454f-8248-8827f0da3e6d",
   "metadata": {
    "collapsed": false
   },
   "source": [
    "### Variables"
   ]
  },
  {
   "cell_type": "markdown",
   "id": "28fd3635-917b-4d9c-ac2b-cacaca11d0fe",
   "metadata": {
    "collapsed": false
   },
   "source": [
    "We can store a result in a variable:"
   ]
  },
  {
   "cell_type": "code",
   "execution_count": null,
   "id": "d34abbfc-7d38-4e3f-b695-56168bc677c7",
   "metadata": {
    "collapsed": false
   },
   "outputs": [],
   "source": [
    "london_location = geolocate(\"London\")\n",
    "print(london_location)"
   ]
  },
  {
   "cell_type": "markdown",
   "id": "477d521a-c3ca-487f-b96b-c5914d40be4e",
   "metadata": {
    "collapsed": false
   },
   "source": [
    "### More complex functions"
   ]
  },
  {
   "cell_type": "markdown",
   "id": "753f65ab-26ee-4a38-b5f8-7305d3cb6913",
   "metadata": {
    "collapsed": false
   },
   "source": [
    "We'll fetch a map of a place from the Google Maps server, given a longitude and latitude.\n",
    "The URLs look like: `https://mt0.google.com/vt?x=658&y=340&z=10&lyrs=s`. Since we'll frequently be generating these URLs, we will create two helper functions to make our life easier.\n",
    "\n",
    "The first is a function to [convert our latitude and longitude into the coordinate tiles system used by Google Maps](https://wiki.openstreetmap.org/wiki/Slippy_map_tilenames#X_and_Y).\n",
    "We will then create a second function to build up a web request from the URL given our parameters.\n"
   ]
  },
  {
   "cell_type": "code",
   "execution_count": null,
   "id": "9640ac16-d138-4246-a7cd-ead3a6e51bb7",
   "metadata": {
    "collapsed": false
   },
   "outputs": [],
   "source": [
    "import os\n",
    "import math\n",
    "import requests\n",
    "\n",
    "def deg2num(lat_deg, lon_deg, zoom):\n",
    "    \"\"\"Convert latitude and longitude to XY tiles coordinates.\"\"\"\n",
    "\n",
    "    lat_rad = math.radians(lat_deg)\n",
    "    n = 2.0 ** zoom\n",
    "    x_tiles_coord = int((lon_deg + 180.0) / 360.0 * n)\n",
    "    y_tiles_coord = int((1.0 - math.asinh(math.tan(lat_rad)) / math.pi) / 2.0 * n)\n",
    "\n",
    "    return (x_tiles_coord, y_tiles_coord)\n",
    "\n",
    "def request_map_at(latitude, longitude, zoom=10, satellite=True):\n",
    "    \"\"\"Retrieve a map from Google at a given location.\"\"\"\n",
    "\n",
    "    base_url = \"https://mt0.google.com/vt?\"\n",
    "    x_coord, y_coord = deg2num(latitude, longitude, zoom)\n",
    "\n",
    "    params = dict(\n",
    "        x=x_coord,\n",
    "        y=y_coord,\n",
    "        z=zoom,\n",
    "    )\n",
    "    if satellite:\n",
    "        params['lyrs'] = 's'\n",
    "    \n",
    "    return requests.get(base_url, params=params)\n"
   ]
  },
  {
   "cell_type": "code",
   "execution_count": null,
   "id": "33c79367-955d-4882-9ce1-8cc0ce8b70c2",
   "metadata": {
    "collapsed": false
   },
   "outputs": [],
   "source": [
    "london_latitude, london_longitude = london_location\n",
    "map_response = request_map_at(london_latitude, london_longitude)\n"
   ]
  },
  {
   "cell_type": "markdown",
   "id": "e08879cf-7214-43f6-b9b2-d8cac5682353",
   "metadata": {
    "collapsed": false
   },
   "source": [
    "### Checking our work"
   ]
  },
  {
   "cell_type": "markdown",
   "id": "ac68377c-b4b1-4116-863d-4e3905114e04",
   "metadata": {
    "collapsed": false
   },
   "source": [
    "Let's see what URL we ended up with.\n",
    "\n",
    "Firsty we will define two constants so that we can split the returned URL into the base URL and the part of the URL that corresponds to the location we requested:\n"
   ]
  },
  {
   "cell_type": "code",
   "execution_count": null,
   "id": "6ff82d31-d1fc-4248-93d8-ffd6dcad60e7",
   "metadata": {
    "collapsed": false
   },
   "outputs": [],
   "source": [
    "url = map_response.url\n",
    "\n",
    "first_25s = slice(0, 25)\n",
    "from_25th = slice(25, None)\n",
    "\n",
    "print(url)\n",
    "print(url[first_25s])\n",
    "print(url[from_25th])\n"
   ]
  },
  {
   "cell_type": "markdown",
   "id": "280e8b32-bced-4f81-af53-7943469683fa",
   "metadata": {
    "collapsed": false
   },
   "source": [
    "`url` is a string and we can select parts of this string using the `slice`s we defined above. `first_25s` will select characters 0 to 24 of the string and `from_25th` will select all characters from the 25th onwards.\n"
   ]
  },
  {
   "cell_type": "markdown",
   "id": "b44dbcb3-23b1-4b0a-9623-d985e3ed8d47",
   "metadata": {
    "collapsed": false
   },
   "source": [
    "We can write **tests** so that if we change our code later we can check the results are still valid. We will do this here using `assert` statements. If any of those `assert` statements are `False` we will get an error. If we receive an error from our tests we know we need to fix something in our code."
   ]
  },
  {
   "cell_type": "code",
   "execution_count": null,
   "id": "2fbc3f3a-aac9-4b4f-aa20-303d2e84d16b",
   "metadata": {
    "collapsed": false
   },
   "outputs": [],
   "source": [
    "assert \"https://mt0.google.com/vt?\" in url\n",
    "assert \"z=10\" in url\n",
    "assert \"lyrs=s\" in url\n"
   ]
  },
  {
   "cell_type": "markdown",
   "id": "350ac9f9-6b43-41c1-bfbd-ec0df837b1f7",
   "metadata": {
    "collapsed": false
   },
   "source": [
    "Our previous function comes back with an Object representing the web request. In Python, we can use the `.\n",
    "operator` to get access to a particular **attribute** of the object. In this case, the image at the requested URL is stored in the `content` attribute. It's a big file, so let's just get look at first few bytes:\n"
   ]
  },
  {
   "cell_type": "code",
   "execution_count": null,
   "id": "bd3e967e-d4bd-4047-b251-a6b9b3b3ee06",
   "metadata": {
    "collapsed": false
   },
   "outputs": [],
   "source": [
    "map_response.content[0:20]\n"
   ]
  },
  {
   "cell_type": "markdown",
   "id": "c9fd828b-29e5-4db2-9d15-1bf46095294e",
   "metadata": {
    "collapsed": false
   },
   "source": [
    "### Displaying results"
   ]
  },
  {
   "cell_type": "markdown",
   "id": "8256d2ba-9ef6-4d7d-8654-0429af07b1b6",
   "metadata": {
    "collapsed": false
   },
   "source": [
    "We'll need to do this a lot, so we can wrap up our previous function in another function to save on typing."
   ]
  },
  {
   "cell_type": "code",
   "execution_count": null,
   "id": "ddb0005f-d991-4034-91f5-f4453a7a0c42",
   "metadata": {
    "collapsed": false
   },
   "outputs": [],
   "source": [
    "def map_content_at(latitude, longitude, zoom=10, satellite=True):\n",
    "    \"\"\"Retrieve a map image from Google at a given location.\"\"\"\n",
    "\n",
    "    return request_map_at(latitude, longitude, zoom=10, satellite=True).content\n"
   ]
  },
  {
   "cell_type": "markdown",
   "id": "8d0ecee5-a7c9-458e-8eb5-2fc1a2e780dc",
   "metadata": {
    "collapsed": false
   },
   "source": [
    "We can use a library that comes with Jupyter notebook to display the image. This is one of the most powerful things about modern programming languages like Python - being able to work with images, documents, or any other kind of data just as easily as we can with numbers or strings.\n"
   ]
  },
  {
   "cell_type": "code",
   "execution_count": null,
   "id": "1f8f6717-5bdb-41b4-84e4-d54011a795bb",
   "metadata": {
    "collapsed": false
   },
   "outputs": [],
   "source": [
    "import IPython\n",
    "\n",
    "map_png = map_content_at(london_latitude, london_longitude)\n"
   ]
  },
  {
   "cell_type": "code",
   "execution_count": null,
   "id": "3d6bb84a-8c2d-41d3-a529-a7b07a8ee65d",
   "metadata": {
    "collapsed": false
   },
   "outputs": [],
   "source": [
    "print(\"The type of our map result is actually a: \", type(map_png))\n"
   ]
  },
  {
   "cell_type": "code",
   "execution_count": null,
   "id": "57f9e85f-85b5-4721-8de0-1ffa4285a33f",
   "metadata": {
    "collapsed": false
   },
   "outputs": [],
   "source": [
    "IPython.display.Image(map_png)"
   ]
  },
  {
   "cell_type": "code",
   "execution_count": null,
   "id": "9f290dc0-a02b-4bc3-90fe-3a73ddb651c1",
   "metadata": {
    "collapsed": false
   },
   "outputs": [],
   "source": [
    "IPython.display.Image(map_content_at(*geolocate(\"New Delhi\")))"
   ]
  },
  {
   "cell_type": "markdown",
   "id": "b376f9df-86e5-4e3e-89f8-845e5e2019fe",
   "metadata": {
    "collapsed": false
   },
   "source": [
    "### Manipulating Numbers"
   ]
  },
  {
   "cell_type": "markdown",
   "id": "64b418f5-c784-4f8b-b9a4-a44f870616ca",
   "metadata": {
    "collapsed": false
   },
   "source": [
    "Now we get to our research project: we want to use satellite imagery to find out how urbanised the world is along a line between two cites. We expect the satellite image to be greener in the countryside.\n"
   ]
  },
  {
   "cell_type": "markdown",
   "id": "bc44f831-f425-4ab8-b20d-6ae856623456",
   "metadata": {
    "collapsed": false
   },
   "source": [
    "We'll need to import a few more libraries to count how much green there is in an image.\n"
   ]
  },
  {
   "cell_type": "code",
   "execution_count": null,
   "id": "47dc7216-51c7-4d0a-8d07-8be0b8d6291f",
   "metadata": {
    "collapsed": false
   },
   "outputs": [],
   "source": [
    "from io import BytesIO  # A library to convert between files and strings\n",
    "import numpy as np  # A library to deal with matrices\n",
    "import imageio.v3 as iio  # A library to deal with images\n"
   ]
  },
  {
   "cell_type": "markdown",
   "id": "f9782a47-d961-44af-9011-d42e65977a65",
   "metadata": {
    "collapsed": false
   },
   "source": [
    "Let's define what we count as green:"
   ]
  },
  {
   "cell_type": "code",
   "execution_count": null,
   "id": "603e801b-3556-4a0a-b4e1-f78b305b40c8",
   "metadata": {
    "collapsed": false
   },
   "outputs": [],
   "source": [
    "def is_green(pixels):\n",
    "    \"\"\"Determine if each pixel in an image array is green.\"\"\"\n",
    "    \n",
    "    # RGB indices\n",
    "    red, green, blue = range(3)\n",
    "\n",
    "    threshold = 1.1\n",
    "    greener_than_red = pixels[:, :, green] > threshold * pixels[:, :, red]\n",
    "    greener_than_blue = pixels[:, :, green] > threshold * pixels[:, :, blue]\n",
    "    green = np.logical_and(greener_than_red, greener_than_blue) \n",
    "\n",
    "    return green\n"
   ]
  },
  {
   "cell_type": "markdown",
   "id": "0bc8b1eb-0349-421c-9542-2daddb02dac7",
   "metadata": {
    "collapsed": false
   },
   "source": [
    "This code has assumed we have our pixel data for the image as a $256 \\times 256 \\times 3$ 3-d matrix,\n",
    "with each of the three layers being red, green, and blue pixels.\n",
    "\n",
    "We find out which pixels are green by comparing, element-by-element, the middle (green, number 1) layer to the top (red, zero) and bottom (blue, 2)"
   ]
  },
  {
   "cell_type": "markdown",
   "id": "1bda248f-d301-4569-bc99-c409dde51487",
   "metadata": {
    "collapsed": false
   },
   "source": [
    "Now we just need to parse in our data, which is a PNG image, and turn it into our matrix format:"
   ]
  },
  {
   "cell_type": "code",
   "execution_count": null,
   "id": "36dca9eb-62a7-4948-9b35-6eeb0fea25c1",
   "metadata": {
    "collapsed": false
   },
   "outputs": [],
   "source": [
    "def count_green_in_png(data):\n",
    "    \"\"\"Determine the total number of green pixels in an image.\"\"\"\n",
    "\n",
    "    f = BytesIO(data)\n",
    "    pixels = iio.imread(f) # Get our PNG image as a numpy array\n",
    "\n",
    "    return np.sum(is_green(pixels))\n"
   ]
  },
  {
   "cell_type": "code",
   "execution_count": null,
   "id": "f18a214a-44fc-4a6d-aa94-c28da622e442",
   "metadata": {
    "collapsed": false
   },
   "outputs": [],
   "source": [
    "london_map = map_content_at(london_latitude, london_longitude)\n",
    "green_count_london = count_green_in_png(london_map)\n",
    "print(green_count_london)\n"
   ]
  },
  {
   "cell_type": "code",
   "execution_count": null,
   "id": "7e188111-8623-4ea4-a766-09337d6f6627",
   "metadata": {
    "collapsed": false
   },
   "outputs": [],
   "source": [
    "iio.imread(BytesIO(london_map)).shape\n"
   ]
  },
  {
   "cell_type": "markdown",
   "id": "13f231fd-0b72-4796-b1ee-c82aeff23ef1",
   "metadata": {
    "collapsed": false
   },
   "source": [
    "We'll also need a function to get an evenly spaced set of places between two endpoints:"
   ]
  },
  {
   "cell_type": "code",
   "execution_count": null,
   "id": "c93fcb1a-848a-4fc4-bb34-dc7f2905a89f",
   "metadata": {
    "collapsed": false
   },
   "outputs": [],
   "source": [
    "def location_sequence(start, end, steps):\n",
    "    \"\"\"Generate a sequence of evenly spaced locations between two sets of coordinates.\"\"\"\n",
    "\n",
    "    start_latitude, start_longitude = start\n",
    "    end_latitude, end_longitude = end\n",
    "    \n",
    "    latitudes = np.linspace(start_latitude, end_latitude, steps)\n",
    "    longitudes = np.linspace(start_longitude, end_longitude, steps)\n",
    "\n",
    "    path = np.vstack([latitudes, longitudes]).transpose()\n",
    "    \n",
    "    return path\n"
   ]
  },
  {
   "cell_type": "code",
   "execution_count": null,
   "id": "faf3f4ca-9d9d-437a-83a7-2111a565b882",
   "metadata": {
    "collapsed": false
   },
   "outputs": [],
   "source": [
    "london_to_cambridge = location_sequence(\n",
    "    start=geolocate(\"London\"),\n",
    "    end=geolocate(\"Cambridge\"),\n",
    "    steps=5,\n",
    ")\n",
    "print(london_to_cambridge)"
   ]
  },
  {
   "cell_type": "markdown",
   "id": "d95a7a4e-458f-4bf0-b6b7-777e9187873f",
   "metadata": {
    "collapsed": false
   },
   "source": [
    "### Creating Images"
   ]
  },
  {
   "cell_type": "markdown",
   "id": "00b968a8-c5a3-487d-a427-af9c16479fe0",
   "metadata": {
    "collapsed": false
   },
   "source": [
    "We should display the green content to check our work:"
   ]
  },
  {
   "cell_type": "code",
   "execution_count": null,
   "id": "09b99522-6109-4718-8073-62da66c0ba04",
   "metadata": {
    "collapsed": false
   },
   "outputs": [],
   "source": [
    "def show_green_in_png(data):\n",
    "    \"\"\"Convert all non-green pixels in an RGB image to black.\n",
    "\n",
    "    Red and blue channel are set to 0 for all pixels.\n",
    "    Pixels that are green will have the green channel set to its max value.\n",
    "    Pixels that are non-green will have the green channel set to 0.\n",
    "    \"\"\"\n",
    "\n",
    "    f = BytesIO(data)\n",
    "    pixels = iio.imread(f) # Get our PNG image as a numpy array\n",
    "    green_pixels = is_green(pixels)\n",
    "\n",
    "    green_channel = 1\n",
    "    binary_pixels = np.zeros_like(pixels, dtype=np.uint8)\n",
    "    max_possible_value =  np.iinfo(binary_pixels.dtype).max\n",
    "    binary_pixels[green_pixels, green_channel] = max_possible_value\n",
    "\n",
    "    buffer = BytesIO()\n",
    "    binary_image = iio.imwrite(buffer, binary_pixels, extension='.png')\n",
    "\n",
    "    return buffer.getvalue()\n"
   ]
  },
  {
   "cell_type": "code",
   "execution_count": null,
   "id": "5b73e86c-0405-46b2-b2eb-ea7656875b83",
   "metadata": {
    "collapsed": false
   },
   "outputs": [],
   "source": [
    "london_location"
   ]
  },
  {
   "cell_type": "code",
   "execution_count": null,
   "id": "4a6ca81a-d224-4e07-9c01-1a92d6a417e5",
   "metadata": {
    "collapsed": false
   },
   "outputs": [],
   "source": [
    "IPython.display.Image(\n",
    "    map_content_at(london_latitude, london_longitude, satellite=True)\n",
    ")"
   ]
  },
  {
   "cell_type": "code",
   "execution_count": null,
   "id": "cfd4cf61-7917-4c20-a4f1-f4b894c94c2c",
   "metadata": {
    "collapsed": false
   },
   "outputs": [],
   "source": [
    "IPython.display.Image(\n",
    "    show_green_in_png(\n",
    "        map_content_at(\n",
    "            london_latitude,\n",
    "            london_longitude,\n",
    "            satellite=True,\n",
    "        )\n",
    "    )\n",
    ")\n"
   ]
  },
  {
   "cell_type": "markdown",
   "id": "e7516267-ddac-4a3b-9dc8-57c5bf7cb74f",
   "metadata": {
    "collapsed": false
   },
   "source": [
    "### Looping"
   ]
  },
  {
   "cell_type": "markdown",
   "id": "c342ecfd-f872-45d7-a065-531a4b345a15",
   "metadata": {
    "collapsed": false
   },
   "source": [
    "We can loop over each element in out list of coordinates and get a map for that place:"
   ]
  },
  {
   "cell_type": "code",
   "execution_count": null,
   "id": "7e37a085-24bc-4f40-97c4-ac2010d68b35",
   "metadata": {
    "collapsed": false
   },
   "outputs": [],
   "source": [
    "london_to_birmingham = location_sequence(\n",
    "    start=geolocate(\"London\"),\n",
    "    end=geolocate(\"Birmingham\"),\n",
    "    steps=10,\n",
    ")\n",
    "\n",
    "london_to_birmingham_maps = []\n",
    "\n",
    "for latitude, longitude in london_to_birmingham:\n",
    "\n",
    "    current_map = map_content_at(latitude, longitude)\n",
    "    london_to_birmingham_maps.append(current_map)\n",
    "    \n",
    "    IPython.display.display(\n",
    "        IPython.display.Image(\n",
    "            current_map,\n",
    "        )\n",
    "    )\n"
   ]
  },
  {
   "cell_type": "markdown",
   "id": "32fc17d1-bea4-4d6d-a41b-8af1064a7dcb",
   "metadata": {
    "collapsed": false
   },
   "source": [
    "So now we can count the green from London to Birmingham!"
   ]
  },
  {
   "cell_type": "code",
   "execution_count": null,
   "id": "38d4ed16-f4b6-49f7-b63a-eb47c02e8e93",
   "metadata": {
    "collapsed": false
   },
   "outputs": [],
   "source": [
    "green_at_each_location = [count_green_in_png(current_map) for current_map in london_to_birmingham_maps]\n",
    "print(green_at_each_location)\n"
   ]
  },
  {
   "cell_type": "markdown",
   "id": "d4851e83-20f7-4253-9448-f7f0a54b2c3a",
   "metadata": {
    "collapsed": false
   },
   "source": [
    "### Plotting graphs"
   ]
  },
  {
   "cell_type": "markdown",
   "id": "112a6af6-5627-4edb-b54a-42a6265c079e",
   "metadata": {
    "collapsed": false
   },
   "source": [
    "Let's plot a graph."
   ]
  },
  {
   "cell_type": "code",
   "execution_count": null,
   "id": "2f5dcc40-5570-436e-b972-84579d68d993",
   "metadata": {
    "collapsed": false
   },
   "outputs": [],
   "source": [
    "import matplotlib.pyplot as plt\n",
    "%matplotlib inline"
   ]
  },
  {
   "cell_type": "code",
   "execution_count": null,
   "id": "b66be481-8d5d-4e46-b641-7a62f7e54d51",
   "metadata": {
    "collapsed": false
   },
   "outputs": [],
   "source": [
    "plt.plot(green_at_each_location)\n",
    "\n",
    "plt.xticks(range(10))\n",
    "plt.xlabel(\"Sequence step\")\n",
    "plt.ylabel(r\"$N_{green}$\")\n"
   ]
  },
  {
   "cell_type": "markdown",
   "id": "2bdcfac2-10f5-4eff-8186-8f9cab338e4b",
   "metadata": {
    "collapsed": false
   },
   "source": [
    "From a research perspective, of course, this code needs a lot of work. But I hope the power of using programming is clear.\n"
   ]
  },
  {
   "cell_type": "markdown",
   "id": "6ab6a0a7-9ccf-4ca0-9d68-0d90edac531b",
   "metadata": {
    "collapsed": false
   },
   "source": [
    "### Composing Program Elements"
   ]
  },
  {
   "cell_type": "markdown",
   "id": "11939293-793d-467f-8c5b-1c208a43834e",
   "metadata": {
    "collapsed": false
   },
   "source": [
    "We built little pieces of useful code, to:\n",
    "\n",
    "* Find latitude and longitude of a place\n",
    "* Get a map at a given latitude and longitude\n",
    "* Decide whether a (red,green,blue) triple is mainly green\n",
    "* Decide whether each pixel is mainly green\n",
    "* Plot a new image showing the green places\n",
    "* Find evenly spaced points between two places"
   ]
  },
  {
   "cell_type": "markdown",
   "id": "404e21e4-8cb5-4693-bb13-ed82fed457b2",
   "metadata": {
    "collapsed": false
   },
   "source": [
    "By putting these together, we can make a function which can plot this graph automatically for any two places:"
   ]
  },
  {
   "cell_type": "code",
   "execution_count": null,
   "id": "af3baa4b-c15f-439f-977d-3d1a688d72ed",
   "metadata": {
    "collapsed": false
   },
   "outputs": [],
   "source": [
    "def green_between(start, end, steps):\n",
    "    \"\"\"Count the amount of green space along a linear path between two locations.\"\"\"\n",
    "\n",
    "    sequence = location_sequence(\n",
    "        start=geolocate(start),\n",
    "        end=geolocate(end),\n",
    "        steps=steps,\n",
    "    )\n",
    "    maps = [map_content_at(latitude, longitude) for latitude, longitude in sequence]\n",
    "    green_at_each_location = [count_green_in_png(current_map) for current_map in maps]\n",
    "    \n",
    "    return green_at_each_location\n"
   ]
  },
  {
   "cell_type": "code",
   "execution_count": null,
   "id": "b1e83628-6c9d-43e3-b914-69bc2b952ee2",
   "metadata": {
    "collapsed": false
   },
   "outputs": [],
   "source": [
    "plt.plot(green_between('New York', 'Chicago', 20))\n"
   ]
  },
  {
   "cell_type": "markdown",
   "id": "0ea1acca-71ae-43d8-aa68-7dafefa5262c",
   "metadata": {
    "collapsed": false
   },
   "source": [
    "We can also put the plotting command into a function, to make it more general:\n"
   ]
  },
  {
   "cell_type": "code",
   "execution_count": null,
   "id": "c8dbc6e0-35be-4c66-b738-01991ea26de4",
   "metadata": {
    "collapsed": false
   },
   "outputs": [],
   "source": [
    "def plot_green_between(start, end, steps):\n",
    "    \"\"\"ount the amount of green space along a linear path between two locations\"\"\"\n",
    "    green_between_locations = green_between(start, end, steps)\n",
    "    plt.plot(green_between_locations)\n",
    "    xticks_steps = 5 if steps > 10 else 1\n",
    "    plt.xticks(range(0, steps, xticks_steps))\n",
    "    plt.xlabel(\"Sequence step\")\n",
    "    plt.ylabel(r\"$N_{green}$\")\n",
    "    plt.title(f\"{start} -- {end}\")\n"
   ]
  },
  {
   "cell_type": "code",
   "execution_count": null,
   "id": "2d46103f-a924-4776-81e4-80f994a0cce0",
   "metadata": {
    "collapsed": false
   },
   "outputs": [],
   "source": [
    "plot_green_between('New York', 'Chicago', 20)"
   ]
  },
  {
   "cell_type": "markdown",
   "id": "b3b9fc5d-7305-46b3-b60a-73b4ad3088a3",
   "metadata": {
    "collapsed": false
   },
   "source": [
    "And that's it! We've covered - very very quickly - a lot of the Python language, and have introduced some of the most important concepts in modern software engineering."
   ]
  },
  {
   "cell_type": "markdown",
   "id": "12f27fcb-b581-4e6f-b8bf-502922e1a734",
   "metadata": {
    "collapsed": false
   },
   "source": [
    "Now we'll go back, carefully, through all the concepts we touched on, and learn how to use them properly ourselves."
   ]
  }
 ],
 "metadata": {
  "jekyll": {
   "display_name": "An example program"
  },
  "kernelspec": {
   "display_name": "Python 3",
   "language": "python",
   "metadata": {
    "debugger": true
   },
   "name": "python3"
  },
  "language_info": {
   "codemirror_mode": {
    "name": "ipython",
    "version": 3
   },
   "file_extension": ".py",
   "mimetype": "text/x-python",
   "name": "python",
   "nbconvert_exporter": "python",
   "pygments_lexer": "ipython3",
   "version": "3.9.6"
  },
  "name": "010exemplar.ipynb",
  "vscode": {
   "interpreter": {
    "hash": "31f2aee4e71d21fbe5cf8b01ff0e069b9275f58929596ceb00d14d90e3e16cd6"
   }
  }
 },
 "nbformat": 4,
 "nbformat_minor": 4
}

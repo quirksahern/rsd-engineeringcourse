{
 "cells": [
  {
   "cell_type": "markdown",
   "metadata": {},
   "source": [
    "# Testing"
   ]
  },
  {
   "cell_type": "markdown",
   "metadata": {},
   "source": [
    "## Introduction"
   ]
  },
  {
   "cell_type": "markdown",
   "metadata": {},
   "source": [
    "When programming, it is very important to know that the code we have written does what it was intended. Unfortunately, this step is often skipped in scientific programming, especially when developing code for our own personal work.\n",
    "\n",
    "Researchers sometimes check that their code behaves correctly by manually running it on some sample data and inspecting the results. However, it is much better and safer to automate this process, so the tests can be run often -- perhaps even after each new commit! This not only reassures us that the code behaves as it should at any given moment, it also gives us more flexibility to change it, because we have a way of knowing when we have broken something by accident.\n",
    "\n",
    "In this chapter, we will mostly look at how to write **unit tests**, which check the behaviour of small parts of our code. We will work with a particular framework for Python code, but the principles we discuss are general. We will also look at how to use a debugger to locate problems in our code, and services that simplify the automated running of tests."
   ]
  },
  {
   "cell_type": "markdown",
   "metadata": {},
   "source": [
    "### A few reasons not to do testing"
   ]
  },
  {
   "cell_type": "markdown",
   "metadata": {},
   "source": [
    "Sensibility                               | Sense\n",
    "  ------------------------------------    |  -------------------------------------\n",
    "  **It's boring**                         |  *Maybe*\n",
    "  **Code is just a one off throwaway**    |  *As with most research codes*\n",
    "  **No time for it**                      |  *A bit more code, a lot less debugging*\n",
    "  **Tests can be buggy too**              |  *See above*\n",
    "  **Not a professional programmer**       |  *See above*\n",
    "  **Will do it later**                    | *See above*"
   ]
  },
  {
   "cell_type": "markdown",
   "metadata": {},
   "source": [
    "### A few reasons to do testing\n",
    "\n",
    "* **laziness**: testing saves time\n",
    "* **peace of mind**: tests (should) ensure code is correct\n",
    "* **runnable specification**: best way to let others know what a function should do and\n",
    "    not do\n",
    "* **reproducible debugging**: debugging that happened and is saved for later reuse\n",
    "* **code structure / modularity**: since we may have to call parts of the code independently during the tests\n",
    "* **ease of modification**: since results can be tested"
   ]
  },
  {
   "cell_type": "markdown",
   "metadata": {},
   "source": [
    "### Not a panacea\n",
    "\n",
    "> Trying to improve the quality of software by doing more testing is like trying to lose weight by\n",
    "> weighing yourself more often.\n",
    "    - Steve McConnell"
   ]
  },
  {
   "cell_type": "markdown",
   "metadata": {},
   "source": [
    " * Testing won't correct a buggy code\n",
    " * Testing will tell you were the bugs are...\n",
    " * ... if the test cases *cover* the bugs"
   ]
  },
  {
   "cell_type": "markdown",
   "metadata": {},
   "source": [
    "If the test cases do not cover the bugs, things can go horribly wrong - an example for this is [Therac-25](https://en.wikipedia.org/wiki/Therac-25)."
   ]
  },
  {
   "cell_type": "markdown",
   "metadata": {},
   "source": [
    "### Tests at different scales\n",
    "\n",
    "Level of test               |Area covered by test\n",
    "--------------------------  |----------------------\n",
    "**Unit testing**            |smallest logical block of work (often < 10 lines of code)\n",
    "**Component testing**       |several logical blocks of work together\n",
    "**Integration testing**     |all components together / whole program\n",
    "\n",
    "\n",
    "<br>\n",
    "<div class=\"fragment fade-in\">\n",
    "Always start at the smallest scale! \n",
    "\n",
    "<div class=\"fragment grow\">\n",
    "If a unit test is too complicated, go smaller.\n",
    "</div>\n",
    "</div>"
   ]
  },
  {
   "cell_type": "markdown",
   "metadata": {},
   "source": [
    "### Legacy code hardening\n",
    "\n",
    "* Very difficult to create unit-tests for existing code\n",
    "* Instead we make a **regression test**\n",
    "* Run program as a black box:\n",
    "\n",
    "```\n",
    "setup input\n",
    "run program\n",
    "read output\n",
    "check output against expected result\n",
    "```\n",
    "\n",
    "* Does not test correctness of code\n",
    "* Checks code is a similarly wrong on day N as day 0"
   ]
  },
  {
   "cell_type": "markdown",
   "metadata": {},
   "source": [
    "### Testing vocabulary\n",
    "\n",
    "* **fixture**: input data\n",
    "* **action**: function that is being tested\n",
    "* **expected result**: the output that should be obtained\n",
    "* **actual result**: the output that is obtained\n",
    "* **coverage**: proportion of all possible paths in the code that the tests take"
   ]
  },
  {
   "cell_type": "markdown",
   "metadata": {},
   "source": [
    "### Branch coverage:"
   ]
  },
  {
   "cell_type": "markdown",
   "metadata": {
    "attributes": {
     "classes": [
      " python"
     ],
     "id": ""
    }
   },
   "source": [
    "```python\n",
    "if energy > 0:\n",
    "    ! Do this \n",
    "else:\n",
    "    ! Do that\n",
    "```"
   ]
  },
  {
   "cell_type": "markdown",
   "metadata": {},
   "source": [
    "Is there a test for both `energy > 0` and `energy <= 0`?"
   ]
  }
 ],
 "metadata": {
  "jekyll": {
   "display_name": "Testing Basics"
  },
  "kernelspec": {
   "display_name": "Python 3",
   "language": "python",
   "name": "python3"
  },
  "language_info": {
   "codemirror_mode": {
    "name": "ipython",
    "version": 3
   },
   "file_extension": ".py",
   "mimetype": "text/x-python",
   "name": "python",
   "nbconvert_exporter": "python",
   "pygments_lexer": "ipython3",
   "version": "3.7.4"
  }
 },
 "nbformat": 4,
 "nbformat_minor": 1
}

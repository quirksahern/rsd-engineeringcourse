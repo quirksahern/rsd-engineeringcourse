{
 "cells": [
  {
   "cell_type": "markdown",
   "metadata": {},
   "source": [
    "## Continuous Integration\n",
    "\n",
    "Continuous integration (CI) is a software development practice that involves integrating new code to a shared repository regularly (typically at least once a day). The integrated changes are then automatically checked by the CI system on test servers, which allows to detect problems early.\n",
    "\n",
    "### Test servers\n",
    "\n",
    "The test servers of the CI system might be configured to: \n",
    "\n",
    "1. run tests nightly\n",
    "2. run tests after each commit to GitHub (or other shared repository)\n",
    "3. run tests on different platforms (e.g. to check that tests pass for different Python versions, or on different operating systems)\n",
    "\n",
    "There are a number of technologies that can be used to set up a CI system to work with a GitHub repository either on your own server or on a remote machine ([GitHub Actions](https://docs.github.com/en/actions), [Travis CI](https://blog.travis-ci.com/2019-05-30-setting-up-a-ci-cd-process-on-github), [CircleCI](https://circleci.com/), ...). Various UCL research groups run servers that can be used to do this automatically. We currently recommend GitHub Actions as the CI system of choice, which has a quite generous offering for open source projects.\n",
    "\n",
    "When configuring a CI system, it's important to weigh up the usefulness of the test settings you cover against the energy consumption that will incur from running the tests frequently. For example, you might want to set up the CI system to run a more extensive suite of tests when a PR to the `main` branch is opened, and only run a small number of important tests at every commit. You could also decide that you don't need to test your code for all Python versions, but only for an old version and a recent one."
   ]
  },
  {
   "cell_type": "markdown",
   "metadata": {},
   "source": [
    "### Memory and profiling\n",
    "\n",
    "For compiled languages (C, C++, Fortran):\n",
    "* Checking for memory leaks with [valgrind](http://valgrind.org/):\n",
    "  `valgrind --leak-check=full program`\n",
    "* Checking cache hits and cache misses with\n",
    "  [cachegrind](http://valgrind.org/docs/manual/cg-manual.html):\n",
    "  `valgrind --tool=cachegrind program`\n",
    "* Profiling the code with [callgrind](http://valgrind.org/docs/manual/cl-manual.html):\n",
    "  `valgrind --tool=callgrind program`"
   ]
  },
  {
   "cell_type": "markdown",
   "metadata": {},
   "source": [
    "* Python: profile with [the standard library](https://docs.python.org/3/library/profile.html) or [runsnake](http://www.vrplumber.com/programming/runsnakerun/)\n",
    "* R: [Rprof](http://stat.ethz.ch/R-manual/R-devel/library/utils/html/Rprof.html)"
   ]
  }
 ],
 "metadata": {
  "jekyll": {
   "display_name": "Continuous Integration"
  },
  "kernelspec": {
   "display_name": "Python 3",
   "language": "python",
   "name": "python3"
  },
  "language_info": {
   "codemirror_mode": {
    "name": "ipython",
    "version": 3
   },
   "file_extension": ".py",
   "mimetype": "text/x-python",
   "name": "python",
   "nbconvert_exporter": "python",
   "pygments_lexer": "ipython3",
   "version": "3.6.1"
  }
 },
 "nbformat": 4,
 "nbformat_minor": 1
}
